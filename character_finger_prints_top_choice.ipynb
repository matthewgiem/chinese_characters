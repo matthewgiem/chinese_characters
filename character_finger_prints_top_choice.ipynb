{
 "cells": [
  {
   "cell_type": "code",
   "execution_count": 1,
   "metadata": {},
   "outputs": [],
   "source": [
    "import glob\n",
    "import cv2\n",
    "import os\n",
    "import matplotlib.pyplot as plt\n",
    "import numpy as np\n",
    "import random\n",
    "import time"
   ]
  },
  {
   "cell_type": "code",
   "execution_count": 2,
   "metadata": {},
   "outputs": [],
   "source": [
    "DataDir = 'ignore_folder/data'\n",
    "Categories_all = ['a5df', 'a447', 'a440', 'a476', 'a67e', 'ae61', \n",
    "                  'a470', 'a448', 'a9d2', 'a44a', 'a5d0', 'a569', \n",
    "                  'acdb', 'a8e2', 'a558', 'a4ce', 'a4f1', 'a4e9', \n",
    "                  'a6ca', 'b773', 'ab42', 'a8e4', 'a4e8', 'ad78', \n",
    "                  'b944', 'a8c6', 'a6d1', 'a977', 'a57e', 'a8a3', \n",
    "                  'a4d2', 'a6b3', 'a8ad', 'a740', 'a8bd', 'a8ae', \n",
    "                  'a4a7', 'b3a3', 'a46c', 'a464', 'a656', 'a5fe', \n",
    "                  'a455', 'a5c1', 'a658', 'b3be', 'a45d', 'a9fa', \n",
    "                  'a46b', 'a9ce', 'a453', 'ac46', 'a454', 'b3bd', \n",
    "                  'a5c9', 'a650', 'a668', 'a5fd', 'a5d5', 'a5aa', \n",
    "                  'a5db', 'a7da', 'a5a6', 'a475', 'a5bf', 'adfb', \n",
    "                  'a474', 'a473', 'afe0', 'a8c3', 'a55b', 'bec7', \n",
    "                  'b54c', 'a6e7', 'a4ec', 'a4fb', 'a751', 'a56b', \n",
    "                  'b0a8', 'a4f4', 'a6e6', 'a4e2', 'a6e8', 'a4e5', \n",
    "                  'a4fd', 'bb50', 'ab48', 'a4c0', 'a4eb', 'b0aa', \n",
    "                  'a8e0', 'a6a8', 'a6db', 'bb44', 'b16f', 'a8d3', \n",
    "                  'a6b9', 'a540', 'a6d5', 'b0ea', 'aaf8', 'a8a7', \n",
    "                  'a4d1', 'a4bd', 'a6b8', 'b6c0', 'a4a3', 'a548', \n",
    "                  'a4a4', 'aaf7', 'b160', 'a6d3', 'aaf9', 'aacc', \n",
    "                  'a86b', 'aa47', 'a467', 'b1d0', 'a451', 'a45f', \n",
    "                  'a5ce', 'a457', 'adab', 'aa46', 'a46a']\n",
    "IMG_X = 100\n",
    "IMG_Y = 100"
   ]
  },
  {
   "cell_type": "code",
   "execution_count": 3,
   "metadata": {},
   "outputs": [],
   "source": [
    "data = []\n",
    "\n",
    "def create_training_data():\n",
    "    for category in Categories_all:\n",
    "        path = os.path.join(DataDir, category)\n",
    "        class_num = Categories_all.index(category)\n",
    "        for img in os.listdir(path):\n",
    "            if 'jinwen' in img:\n",
    "                class_type = 'jinwen'\n",
    "            if 'chuxi' in img:\n",
    "                class_type = 'chuxi'\n",
    "            if 'smallseal' in img:\n",
    "                class_type = 'smallseal'\n",
    "            if 'oracle' in img:\n",
    "                class_type = 'oracle'\n",
    "            try:\n",
    "                img_array = cv2.imread(os.path.join(path,img), \n",
    "                                       cv2.IMREAD_GRAYSCALE)\n",
    "                new_array = cv2.resize(img_array, (IMG_Y, IMG_X))\n",
    "                data.append([new_array, category, class_type])\n",
    "            except Exception as e:\n",
    "                print('something went wrong')"
   ]
  },
  {
   "cell_type": "code",
   "execution_count": 63,
   "metadata": {},
   "outputs": [],
   "source": [
    "create_training_data()\n",
    "random.shuffle(data)\n",
    "testing_data = data[-100:]\n",
    "training_data = data[0:-100]"
   ]
  },
  {
   "cell_type": "code",
   "execution_count": 13,
   "metadata": {},
   "outputs": [
    {
     "data": {
      "text/plain": [
       "24696"
      ]
     },
     "execution_count": 13,
     "metadata": {},
     "output_type": "execute_result"
    }
   ],
   "source": [
    "len(data)"
   ]
  },
  {
   "cell_type": "code",
   "execution_count": 4,
   "metadata": {},
   "outputs": [],
   "source": [
    "finger_print = []\n",
    "\n",
    "def create_finger_print(data):\n",
    "    for picture in data:\n",
    "        horizontal_average = np.average(picture[0], axis=1)\n",
    "        vertical_average = np.average(picture[0], axis=0)\n",
    "        finger_print.append([horizontal_average, vertical_average, \n",
    "                             picture[1], picture[2]])"
   ]
  },
  {
   "cell_type": "code",
   "execution_count": 65,
   "metadata": {},
   "outputs": [],
   "source": [
    "create_finger_print(training_data)"
   ]
  },
  {
   "cell_type": "code",
   "execution_count": 10,
   "metadata": {},
   "outputs": [],
   "source": [
    "def fingerprint_test(sample_picture, fingerprint_data):\n",
    "    horizontal_average = np.average(sample_picture[0], axis=1)\n",
    "    vertical_average = np.average(sample_picture[0], axis=0)\n",
    "    best_guess = []\n",
    "    for x in fingerprint_data:\n",
    "        best_guess.append([int(sum(abs(horizontal_average-x[0])) \n",
    "                               + sum(abs(vertical_average-x[1]))), \n",
    "                           x[2] + \"-\" + x[3]])\n",
    "    best_guess_index = np.argmin([x[0] for x in best_guess])\n",
    "    print('right before it crashes')\n",
    "    return [best_guess[best_guess_index][1], \n",
    "            training_data[best_guess_index][0]]"
   ]
  },
  {
   "cell_type": "code",
   "execution_count": 6,
   "metadata": {},
   "outputs": [],
   "source": [
    "def model_accuracy(array_of_test_images, finger_print_data):\n",
    "    test_number = 0\n",
    "    correctly_guessed = 0\n",
    "    image = []\n",
    "    guess = []\n",
    "    for x in array_of_test_images:\n",
    "        test_number += 1\n",
    "        if fingerprint_test(x, finger_print_data)[0] == x[1] + \"-\" + x[2]:\n",
    "            correctly_guessed += 1\n",
    "        else:\n",
    "            image.append([x[0], x[1] + \"-\" + x[2]])\n",
    "            guess.append(fingerprint_test(x, finger_print_data))\n",
    "    return correctly_guessed/test_number, image, guess"
   ]
  },
  {
   "cell_type": "code",
   "execution_count": 7,
   "metadata": {},
   "outputs": [
    {
     "name": "stdout",
     "output_type": "stream",
     "text": [
      "18.562762022018433\n"
     ]
    }
   ],
   "source": [
    "start = time.time()\n",
    "create_training_data()\n",
    "random.shuffle(data)\n",
    "testing_data = data[-100:]\n",
    "training_data = data[0:-100]\n",
    "create_finger_print(training_data)\n",
    "answer = model_accuracy(testing_data, finger_print)\n",
    "end = time.time()\n",
    "print(end - start)"
   ]
  },
  {
   "cell_type": "code",
   "execution_count": null,
   "metadata": {},
   "outputs": [],
   "source": [
    "start = time.time()\n",
    "create_training_data()\n",
    "random.shuffle(data)\n",
    "testing_data = data[-100:]\n",
    "training_data = data[0:-100]\n",
    "create_finger_print(training_data)\n",
    "answer = model_accuracy(testing_data, finger_print)\n",
    "end = time.time()\n",
    "print(end - start)"
   ]
  },
  {
   "cell_type": "code",
   "execution_count": 68,
   "metadata": {},
   "outputs": [
    {
     "name": "stdout",
     "output_type": "stream",
     "text": [
      "18.036972999572754\n"
     ]
    }
   ],
   "source": [
    "start = time.time()\n",
    "answer = model_accuracy(testing_data, finger_print)\n",
    "end = time.time()\n",
    "print(end - start)"
   ]
  },
  {
   "cell_type": "code",
   "execution_count": 69,
   "metadata": {},
   "outputs": [
    {
     "data": {
      "text/plain": [
       "0.62"
      ]
     },
     "execution_count": 69,
     "metadata": {},
     "output_type": "execute_result"
    }
   ],
   "source": [
    "answer[0]"
   ]
  },
  {
   "cell_type": "code",
   "execution_count": 77,
   "metadata": {},
   "outputs": [],
   "source": [
    "# answer[1]"
   ]
  },
  {
   "cell_type": "code",
   "execution_count": 76,
   "metadata": {},
   "outputs": [],
   "source": [
    "# answer[2]"
   ]
  },
  {
   "cell_type": "code",
   "execution_count": 44,
   "metadata": {},
   "outputs": [],
   "source": [
    "# stuck = testing_data, training_data"
   ]
  },
  {
   "cell_type": "code",
   "execution_count": 75,
   "metadata": {},
   "outputs": [],
   "source": [
    "# for x in testing_data:\n",
    "#     print(x[1:3])"
   ]
  },
  {
   "cell_type": "code",
   "execution_count": null,
   "metadata": {},
   "outputs": [],
   "source": []
  },
  {
   "cell_type": "code",
   "execution_count": 11,
   "metadata": {},
   "outputs": [],
   "source": [
    "def loop_through_function(number):\n",
    "    create_training_data()\n",
    "    values = []\n",
    "    perfect = []\n",
    "    times = []\n",
    "    for _ in range(number):\n",
    "        start = time.time()\n",
    "        random.shuffle(data)\n",
    "        testing_data = data[-100:]\n",
    "        training_data = data[0:-100]\n",
    "        create_finger_print(training_data)\n",
    "        answer = model_accuracy(testing_data, finger_print)\n",
    "#         values.append(answer[0])\n",
    "#         if answer[0] == 1.0:\n",
    "#             perfect.append(testing_data)\n",
    "        end = time.time()\n",
    "        times.append(end - start)\n",
    "    return answer, times #values, perfect, times"
   ]
  },
  {
   "cell_type": "code",
   "execution_count": 12,
   "metadata": {},
   "outputs": [
    {
     "name": "stdout",
     "output_type": "stream",
     "text": [
      "right before it crashes\n",
      "right before it crashes\n",
      "right before it crashes\n",
      "right before it crashes\n",
      "right before it crashes\n",
      "right before it crashes\n",
      "right before it crashes\n",
      "right before it crashes\n",
      "right before it crashes\n",
      "right before it crashes\n",
      "right before it crashes\n",
      "right before it crashes\n",
      "right before it crashes\n",
      "right before it crashes\n",
      "right before it crashes\n"
     ]
    },
    {
     "ename": "IndexError",
     "evalue": "list index out of range",
     "output_type": "error",
     "traceback": [
      "\u001b[0;31m---------------------------------------------------------------------------\u001b[0m",
      "\u001b[0;31mIndexError\u001b[0m                                Traceback (most recent call last)",
      "\u001b[0;32m<ipython-input-12-54183776c271>\u001b[0m in \u001b[0;36m<module>\u001b[0;34m\u001b[0m\n\u001b[0;32m----> 1\u001b[0;31m \u001b[0mloop_through_function\u001b[0m\u001b[0;34m(\u001b[0m\u001b[0;36m1\u001b[0m\u001b[0;34m)\u001b[0m\u001b[0;34m\u001b[0m\u001b[0;34m\u001b[0m\u001b[0m\n\u001b[0m",
      "\u001b[0;32m<ipython-input-11-b0d7ac3654f5>\u001b[0m in \u001b[0;36mloop_through_function\u001b[0;34m(number)\u001b[0m\n\u001b[1;32m     10\u001b[0m         \u001b[0mtraining_data\u001b[0m \u001b[0;34m=\u001b[0m \u001b[0mdata\u001b[0m\u001b[0;34m[\u001b[0m\u001b[0;36m0\u001b[0m\u001b[0;34m:\u001b[0m\u001b[0;34m-\u001b[0m\u001b[0;36m100\u001b[0m\u001b[0;34m]\u001b[0m\u001b[0;34m\u001b[0m\u001b[0;34m\u001b[0m\u001b[0m\n\u001b[1;32m     11\u001b[0m         \u001b[0mcreate_finger_print\u001b[0m\u001b[0;34m(\u001b[0m\u001b[0mtraining_data\u001b[0m\u001b[0;34m)\u001b[0m\u001b[0;34m\u001b[0m\u001b[0;34m\u001b[0m\u001b[0m\n\u001b[0;32m---> 12\u001b[0;31m         \u001b[0manswer\u001b[0m \u001b[0;34m=\u001b[0m \u001b[0mmodel_accuracy\u001b[0m\u001b[0;34m(\u001b[0m\u001b[0mtesting_data\u001b[0m\u001b[0;34m,\u001b[0m \u001b[0mfinger_print\u001b[0m\u001b[0;34m)\u001b[0m\u001b[0;34m\u001b[0m\u001b[0;34m\u001b[0m\u001b[0m\n\u001b[0m\u001b[1;32m     13\u001b[0m \u001b[0;31m#         values.append(answer[0])\u001b[0m\u001b[0;34m\u001b[0m\u001b[0;34m\u001b[0m\u001b[0;34m\u001b[0m\u001b[0m\n\u001b[1;32m     14\u001b[0m \u001b[0;31m#         if answer[0] == 1.0:\u001b[0m\u001b[0;34m\u001b[0m\u001b[0;34m\u001b[0m\u001b[0;34m\u001b[0m\u001b[0m\n",
      "\u001b[0;32m<ipython-input-6-36b8919599be>\u001b[0m in \u001b[0;36mmodel_accuracy\u001b[0;34m(array_of_test_images, finger_print_data)\u001b[0m\n\u001b[1;32m      6\u001b[0m     \u001b[0;32mfor\u001b[0m \u001b[0mx\u001b[0m \u001b[0;32min\u001b[0m \u001b[0marray_of_test_images\u001b[0m\u001b[0;34m:\u001b[0m\u001b[0;34m\u001b[0m\u001b[0;34m\u001b[0m\u001b[0m\n\u001b[1;32m      7\u001b[0m         \u001b[0mtest_number\u001b[0m \u001b[0;34m+=\u001b[0m \u001b[0;36m1\u001b[0m\u001b[0;34m\u001b[0m\u001b[0;34m\u001b[0m\u001b[0m\n\u001b[0;32m----> 8\u001b[0;31m         \u001b[0;32mif\u001b[0m \u001b[0mfingerprint_test\u001b[0m\u001b[0;34m(\u001b[0m\u001b[0mx\u001b[0m\u001b[0;34m,\u001b[0m \u001b[0mfinger_print_data\u001b[0m\u001b[0;34m)\u001b[0m\u001b[0;34m[\u001b[0m\u001b[0;36m0\u001b[0m\u001b[0;34m]\u001b[0m \u001b[0;34m==\u001b[0m \u001b[0mx\u001b[0m\u001b[0;34m[\u001b[0m\u001b[0;36m1\u001b[0m\u001b[0;34m]\u001b[0m \u001b[0;34m+\u001b[0m \u001b[0;34m\"-\"\u001b[0m \u001b[0;34m+\u001b[0m \u001b[0mx\u001b[0m\u001b[0;34m[\u001b[0m\u001b[0;36m2\u001b[0m\u001b[0;34m]\u001b[0m\u001b[0;34m:\u001b[0m\u001b[0;34m\u001b[0m\u001b[0;34m\u001b[0m\u001b[0m\n\u001b[0m\u001b[1;32m      9\u001b[0m             \u001b[0mcorrectly_guessed\u001b[0m \u001b[0;34m+=\u001b[0m \u001b[0;36m1\u001b[0m\u001b[0;34m\u001b[0m\u001b[0;34m\u001b[0m\u001b[0m\n\u001b[1;32m     10\u001b[0m         \u001b[0;32melse\u001b[0m\u001b[0;34m:\u001b[0m\u001b[0;34m\u001b[0m\u001b[0;34m\u001b[0m\u001b[0m\n",
      "\u001b[0;32m<ipython-input-10-f4168ae211f3>\u001b[0m in \u001b[0;36mfingerprint_test\u001b[0;34m(sample_picture, fingerprint_data)\u001b[0m\n\u001b[1;32m     10\u001b[0m     \u001b[0mprint\u001b[0m\u001b[0;34m(\u001b[0m\u001b[0;34m'right before it crashes'\u001b[0m\u001b[0;34m)\u001b[0m\u001b[0;34m\u001b[0m\u001b[0;34m\u001b[0m\u001b[0m\n\u001b[1;32m     11\u001b[0m     return [best_guess[best_guess_index][1], \n\u001b[0;32m---> 12\u001b[0;31m             training_data[best_guess_index][0]]\n\u001b[0m",
      "\u001b[0;31mIndexError\u001b[0m: list index out of range"
     ]
    }
   ],
   "source": [
    "loop_through_function(1)"
   ]
  },
  {
   "cell_type": "code",
   "execution_count": null,
   "metadata": {},
   "outputs": [],
   "source": []
  },
  {
   "cell_type": "code",
   "execution_count": null,
   "metadata": {},
   "outputs": [],
   "source": []
  },
  {
   "cell_type": "code",
   "execution_count": null,
   "metadata": {},
   "outputs": [],
   "source": []
  },
  {
   "cell_type": "code",
   "execution_count": null,
   "metadata": {},
   "outputs": [],
   "source": []
  },
  {
   "cell_type": "code",
   "execution_count": null,
   "metadata": {},
   "outputs": [],
   "source": []
  },
  {
   "cell_type": "code",
   "execution_count": null,
   "metadata": {},
   "outputs": [],
   "source": []
  },
  {
   "cell_type": "code",
   "execution_count": null,
   "metadata": {},
   "outputs": [],
   "source": []
  },
  {
   "cell_type": "code",
   "execution_count": null,
   "metadata": {},
   "outputs": [],
   "source": []
  },
  {
   "cell_type": "code",
   "execution_count": null,
   "metadata": {},
   "outputs": [],
   "source": []
  },
  {
   "cell_type": "code",
   "execution_count": null,
   "metadata": {},
   "outputs": [],
   "source": []
  },
  {
   "cell_type": "code",
   "execution_count": null,
   "metadata": {},
   "outputs": [],
   "source": []
  },
  {
   "cell_type": "code",
   "execution_count": null,
   "metadata": {},
   "outputs": [],
   "source": []
  },
  {
   "cell_type": "code",
   "execution_count": null,
   "metadata": {},
   "outputs": [],
   "source": []
  },
  {
   "cell_type": "code",
   "execution_count": null,
   "metadata": {},
   "outputs": [],
   "source": []
  },
  {
   "cell_type": "code",
   "execution_count": null,
   "metadata": {},
   "outputs": [],
   "source": []
  },
  {
   "cell_type": "code",
   "execution_count": null,
   "metadata": {},
   "outputs": [],
   "source": []
  },
  {
   "cell_type": "code",
   "execution_count": null,
   "metadata": {},
   "outputs": [],
   "source": []
  },
  {
   "cell_type": "code",
   "execution_count": null,
   "metadata": {},
   "outputs": [],
   "source": []
  }
 ],
 "metadata": {
  "kernelspec": {
   "display_name": "Python 3",
   "language": "python",
   "name": "python3"
  },
  "language_info": {
   "codemirror_mode": {
    "name": "ipython",
    "version": 3
   },
   "file_extension": ".py",
   "mimetype": "text/x-python",
   "name": "python",
   "nbconvert_exporter": "python",
   "pygments_lexer": "ipython3",
   "version": "3.7.1"
  }
 },
 "nbformat": 4,
 "nbformat_minor": 2
}
