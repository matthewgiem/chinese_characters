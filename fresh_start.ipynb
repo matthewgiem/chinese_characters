{
 "cells": [
  {
   "cell_type": "code",
   "execution_count": 2,
   "metadata": {},
   "outputs": [],
   "source": [
    "import glob\n",
    "import cv2\n",
    "import os\n",
    "import matplotlib.pyplot as plt\n",
    "import numpy as np\n",
    "import random\n",
    "import time"
   ]
  },
  {
   "cell_type": "code",
   "execution_count": 3,
   "metadata": {},
   "outputs": [],
   "source": [
    "DataDir = 'ignore_folder/data'\n",
    "Categories_all = ['a5df', 'a447', 'a440', 'a476', 'a67e', 'ae61', \n",
    "                  'a470', 'a448', 'a9d2', 'a44a', 'a5d0', 'a569', \n",
    "                  'acdb', 'a8e2', 'a558', 'a4ce', 'a4f1', 'a4e9', \n",
    "                  'a6ca', 'b773', 'ab42', 'a8e4', 'a4e8', 'ad78', \n",
    "                  'b944', 'a8c6', 'a6d1', 'a977', 'a57e', 'a8a3', \n",
    "                  'a4d2', 'a6b3', 'a8ad', 'a740', 'a8bd', 'a8ae', \n",
    "                  'a4a7', 'b3a3', 'a46c', 'a464', 'a656', 'a5fe', \n",
    "                  'a455', 'a5c1', 'a658', 'b3be', 'a45d', 'a9fa', \n",
    "                  'a46b', 'a9ce', 'a453', 'ac46', 'a454', 'b3bd', \n",
    "                  'a5c9', 'a650', 'a668', 'a5fd', 'a5d5', 'a5aa', \n",
    "                  'a5db', 'a7da', 'a5a6', 'a475', 'a5bf', 'adfb', \n",
    "                  'a474', 'a473', 'afe0', 'a8c3', 'a55b', 'bec7', \n",
    "                  'b54c', 'a6e7', 'a4ec', 'a4fb', 'a751', 'a56b', \n",
    "                  'b0a8', 'a4f4', 'a6e6', 'a4e2', 'a6e8', 'a4e5', \n",
    "                  'a4fd', 'bb50', 'ab48', 'a4c0', 'a4eb', 'b0aa', \n",
    "                  'a8e0', 'a6a8', 'a6db', 'bb44', 'b16f', 'a8d3', \n",
    "                  'a6b9', 'a540', 'a6d5', 'b0ea', 'aaf8', 'a8a7', \n",
    "                  'a4d1', 'a4bd', 'a6b8', 'b6c0', 'a4a3', 'a548', \n",
    "                  'a4a4', 'aaf7', 'b160', 'a6d3', 'aaf9', 'aacc', \n",
    "                  'a86b', 'aa47', 'a467', 'b1d0', 'a451', 'a45f', \n",
    "                  'a5ce', 'a457', 'adab', 'aa46', 'a46a']\n",
    "IMG_X = 100\n",
    "IMG_Y = 100"
   ]
  },
  {
   "cell_type": "code",
   "execution_count": 4,
   "metadata": {},
   "outputs": [],
   "source": [
    "def create_training_data():\n",
    "    \"\"\"takes no arguments, accessess data in file and returns it as a list containing [0] a unique id, \n",
    "    [1] category, [2] class_type, [3] category + class_type, [4] horizontal average, [5] vertical average, \n",
    "    [6] the original image resized to be a 100 X 100 array\"\"\"\n",
    "    data = []\n",
    "    unique_id = 0\n",
    "    for category in Categories_all:\n",
    "        path = os.path.join(DataDir, category)\n",
    "        class_num = Categories_all.index(category)\n",
    "        for img in os.listdir(path):\n",
    "            if 'jinwen' in img:\n",
    "                class_type = 'jinwen'\n",
    "            if 'chuxi' in img:\n",
    "                class_type = 'chuxi'\n",
    "            if 'smallseal' in img:\n",
    "                class_type = 'smallseal'\n",
    "            if 'oracle' in img:\n",
    "                class_type = 'oracle'\n",
    "            try:\n",
    "                img_array = cv2.imread(os.path.join(path,img), \n",
    "                                       cv2.IMREAD_GRAYSCALE)\n",
    "                new_array = cv2.resize(img_array, (IMG_Y, IMG_X))\n",
    "                horizontal_average = np.average(new_array, axis=1)\n",
    "                vertical_average = np.average(new_array, axis=0)\n",
    "                data.append([unique_id, category, class_type, category + \"-\" + class_type, \n",
    "                             horizontal_average, vertical_average, new_array])\n",
    "                unique_id += 1\n",
    "            except Exception as e:\n",
    "                print('something went wrong')\n",
    "    return data"
   ]
  },
  {
   "cell_type": "code",
   "execution_count": 5,
   "metadata": {},
   "outputs": [],
   "source": [
    "complete_data = create_training_data()"
   ]
  },
  {
   "cell_type": "code",
   "execution_count": 6,
   "metadata": {},
   "outputs": [
    {
     "data": {
      "text/plain": [
       "0"
      ]
     },
     "execution_count": 6,
     "metadata": {},
     "output_type": "execute_result"
    }
   ],
   "source": [
    "complete_data[0][0]"
   ]
  },
  {
   "cell_type": "code",
   "execution_count": 7,
   "metadata": {},
   "outputs": [
    {
     "data": {
      "text/plain": [
       "8231"
      ]
     },
     "execution_count": 7,
     "metadata": {},
     "output_type": "execute_result"
    }
   ],
   "source": [
    "complete_data[-1][0]"
   ]
  },
  {
   "cell_type": "code",
   "execution_count": 8,
   "metadata": {},
   "outputs": [
    {
     "data": {
      "text/plain": [
       "8232"
      ]
     },
     "execution_count": 8,
     "metadata": {},
     "output_type": "execute_result"
    }
   ],
   "source": [
    "len(complete_data)"
   ]
  },
  {
   "cell_type": "code",
   "execution_count": 9,
   "metadata": {},
   "outputs": [],
   "source": [
    "indexed_complete_data = complete_data.copy()"
   ]
  },
  {
   "cell_type": "code",
   "execution_count": null,
   "metadata": {},
   "outputs": [],
   "source": []
  },
  {
   "cell_type": "code",
   "execution_count": null,
   "metadata": {},
   "outputs": [],
   "source": []
  },
  {
   "cell_type": "code",
   "execution_count": 10,
   "metadata": {},
   "outputs": [],
   "source": [
    "def shuffle(data):\n",
    "    \"\"\"takes a list of data as an input and outputs a shuffled list \n",
    "    with 100 testing data elements and the rest as training data\"\"\"\n",
    "    random.shuffle(data)\n",
    "    testing_data = data[-100:]\n",
    "    training_data = data[0:-100]\n",
    "    return data, testing_data, training_data"
   ]
  },
  {
   "cell_type": "code",
   "execution_count": 11,
   "metadata": {},
   "outputs": [],
   "source": [
    "shuffled_data, testing_data, training_data = shuffle(complete_data)"
   ]
  },
  {
   "cell_type": "code",
   "execution_count": 12,
   "metadata": {},
   "outputs": [
    {
     "data": {
      "text/plain": [
       "3755"
      ]
     },
     "execution_count": 12,
     "metadata": {},
     "output_type": "execute_result"
    }
   ],
   "source": [
    "shuffled_data[0][0]"
   ]
  },
  {
   "cell_type": "code",
   "execution_count": 13,
   "metadata": {},
   "outputs": [
    {
     "data": {
      "text/plain": [
       "3755"
      ]
     },
     "execution_count": 13,
     "metadata": {},
     "output_type": "execute_result"
    }
   ],
   "source": [
    "complete_data[0][0]"
   ]
  },
  {
   "cell_type": "code",
   "execution_count": 14,
   "metadata": {},
   "outputs": [
    {
     "data": {
      "text/plain": [
       "0"
      ]
     },
     "execution_count": 14,
     "metadata": {},
     "output_type": "execute_result"
    }
   ],
   "source": [
    "indexed_complete_data[0][0]"
   ]
  },
  {
   "cell_type": "code",
   "execution_count": 15,
   "metadata": {},
   "outputs": [
    {
     "data": {
      "text/plain": [
       "[3755,\n",
       " 'a453',\n",
       " 'chuxi',\n",
       " 'a453-chuxi',\n",
       " array([  3.17,  10.79,  18.86,  17.07,  16.25,  16.18,  18.2 ,  19.04,\n",
       "         19.06,  19.25,  20.34,  22.34,  22.42,  23.34,  25.5 ,  25.75,\n",
       "         25.75,  25.75,  27.64,  28.74,  26.58,  29.04,  33.17,  37.2 ,\n",
       "         42.76,  48.65,  50.65,  51.6 ,  51.69,  49.5 ,  49.48,  51.57,\n",
       "         49.46,  48.21,  48.39,  48.73,  49.54,  51.24,  51.54,  51.51,\n",
       "         51.54,  48.57,  44.44,  40.12,  35.96,  32.36,  32.37,  34.71,\n",
       "         39.02,  49.43,  80.96, 133.58, 131.31, 128.1 , 126.41, 113.09,\n",
       "         99.76,  89.13,  71.84,  54.09,  39.52,  27.96,  19.58,  19.58,\n",
       "         20.89,  22.4 ,  20.1 ,  19.13,  19.13,  19.13,  19.13,  19.13,\n",
       "         19.13,  19.13,  19.13,  21.16,  22.66,  22.66,  21.04,  19.58,\n",
       "         19.58,  21.05,  22.66,  22.67,  22.67,  22.65,  22.47,  29.67,\n",
       "         41.75,  41.73,  39.71,  35.7 ,  33.55,  31.39,  29.1 ,  23.51,\n",
       "         15.2 ,   2.46,   0.  ,   0.  ]),\n",
       " array([  0.  ,   0.  ,   0.  ,   0.  ,   0.  ,   0.  ,   0.  ,   0.  ,\n",
       "          0.  ,   0.  ,   0.  ,   0.  ,   0.  ,   0.  ,   0.  ,   0.  ,\n",
       "          2.28,   4.28,   4.28,   4.28,   6.79,   7.91,   9.05,  12.05,\n",
       "         12.05,  12.05,  13.69,  15.82,  15.87,  19.05,  19.83,  19.83,\n",
       "         19.83,  19.83,  19.83,  26.33,  32.96,  35.9 ,  39.18,  39.54,\n",
       "         41.3 ,  44.35,  47.5 ,  47.5 ,  47.16,  48.83,  50.23,  47.44,\n",
       "         50.06,  53.02,  54.69,  54.11,  50.84,  59.61,  71.43,  78.66,\n",
       "         77.92,  74.94,  71.97,  68.86,  65.73,  63.63,  69.47,  78.38,\n",
       "         89.62, 105.85, 130.29, 149.14, 150.7 , 145.93, 142.12, 145.21,\n",
       "        151.55, 135.61, 107.77,  81.2 ,  75.14,  66.23,  58.72,  48.69,\n",
       "         33.35,  18.03,   5.14,   0.  ,   0.  ,   0.  ,   0.  ,   0.  ,\n",
       "          0.  ,   0.  ,   0.  ,   0.  ,   0.  ,   0.  ,   0.  ,   0.  ,\n",
       "          0.  ,   0.  ,   0.  ,   0.  ]),\n",
       " array([[0, 0, 0, ..., 0, 0, 0],\n",
       "        [0, 0, 0, ..., 0, 0, 0],\n",
       "        [0, 0, 0, ..., 0, 0, 0],\n",
       "        ...,\n",
       "        [0, 0, 0, ..., 0, 0, 0],\n",
       "        [0, 0, 0, ..., 0, 0, 0],\n",
       "        [0, 0, 0, ..., 0, 0, 0]], dtype=uint8)]"
      ]
     },
     "execution_count": 15,
     "metadata": {},
     "output_type": "execute_result"
    }
   ],
   "source": [
    "shuffled_data[0]"
   ]
  },
  {
   "cell_type": "code",
   "execution_count": 16,
   "metadata": {},
   "outputs": [
    {
     "data": {
      "text/plain": [
       "<matplotlib.image.AxesImage at 0x11ebbb9b0>"
      ]
     },
     "execution_count": 16,
     "metadata": {},
     "output_type": "execute_result"
    },
    {
     "data": {
      "image/png": "[encoded data removed]",
      "text/plain": [
       "<Figure size 432x288 with 1 Axes>"
      ]
     },
     "metadata": {
      "needs_background": "light"
     },
     "output_type": "display_data"
    }
   ],
   "source": [
    "plt.imshow(shuffled_data[0][-1], cmap='gray')"
   ]
  },
  {
   "cell_type": "code",
   "execution_count": 17,
   "metadata": {},
   "outputs": [],
   "source": [
    "def fingerprint_test(testing, training):\n",
    "    \"\"\"Takes our testing data and training data as inputs and returns our closest match for each of the testing images\n",
    "    based on our 'training' images\"\"\"\n",
    "    guesses = []\n",
    "    for x in testing:\n",
    "        best_guess = []\n",
    "        for y in training:\n",
    "            best_guess.append([sum(abs(x[4]-y[4])) + sum(abs(x[5]-y[5])), y[0]])\n",
    "        guess_index = np.argmin([x[0] for x in best_guess])\n",
    "        guesses.append([x[0], best_guess[guess_index][1]])\n",
    "    return guesses"
   ]
  },
  {
   "cell_type": "code",
   "execution_count": 18,
   "metadata": {},
   "outputs": [],
   "source": [
    "test = fingerprint_test(testing_data, training_data)"
   ]
  },
  {
   "cell_type": "code",
   "execution_count": 30,
   "metadata": {},
   "outputs": [],
   "source": [
    "def give_score(test):\n",
    "    \"\"\"Takes our return object from fingerprint_test and returns the percent accuracy of our model\"\"\"\n",
    "    total = 0\n",
    "    correct = 0\n",
    "    for x, y in test:\n",
    "        if indexed_complete_data[x][1] == indexed_complete_data[y][1]:\n",
    "            correct += 1\n",
    "        total += 1\n",
    "    return correct/total"
   ]
  },
  {
   "cell_type": "code",
   "execution_count": 20,
   "metadata": {},
   "outputs": [],
   "source": [
    "score = give_score(test)"
   ]
  },
  {
   "cell_type": "code",
   "execution_count": 21,
   "metadata": {},
   "outputs": [
    {
     "data": {
      "text/plain": [
       "0.69"
      ]
     },
     "execution_count": 21,
     "metadata": {},
     "output_type": "execute_result"
    }
   ],
   "source": [
    "score"
   ]
  },
  {
   "cell_type": "code",
   "execution_count": 22,
   "metadata": {},
   "outputs": [
    {
     "data": {
      "text/plain": [
       "100"
      ]
     },
     "execution_count": 22,
     "metadata": {},
     "output_type": "execute_result"
    }
   ],
   "source": [
    "len(test)"
   ]
  },
  {
   "cell_type": "code",
   "execution_count": 27,
   "metadata": {},
   "outputs": [
    {
     "data": {
      "text/plain": [
       "[4939, 4905]"
      ]
     },
     "execution_count": 27,
     "metadata": {},
     "output_type": "execute_result"
    }
   ],
   "source": [
    "test[1]"
   ]
  },
  {
   "cell_type": "code",
   "execution_count": 28,
   "metadata": {},
   "outputs": [
    {
     "name": "stdout",
     "output_type": "stream",
     "text": [
      "a56b-jinwen\n"
     ]
    },
    {
     "data": {
      "text/plain": [
       "<matplotlib.image.AxesImage at 0x11ef42a20>"
      ]
     },
     "execution_count": 28,
     "metadata": {},
     "output_type": "execute_result"
    },
    {
     "data": {
      "image/png": "[encoded data removed]",
      "text/plain": [
       "<Figure size 432x288 with 1 Axes>"
      ]
     },
     "metadata": {
      "needs_background": "light"
     },
     "output_type": "display_data"
    }
   ],
   "source": [
    "print(indexed_complete_data[test[1][0]][3])\n",
    "plt.imshow(indexed_complete_data[test[1][0]][-1], cmap='gray')"
   ]
  },
  {
   "cell_type": "code",
   "execution_count": 29,
   "metadata": {},
   "outputs": [
    {
     "name": "stdout",
     "output_type": "stream",
     "text": [
      "a56b-jinwen\n"
     ]
    },
    {
     "data": {
      "text/plain": [
       "<matplotlib.image.AxesImage at 0x11efaccc0>"
      ]
     },
     "execution_count": 29,
     "metadata": {},
     "output_type": "execute_result"
    },
    {
     "data": {
      "image/png": "[encoded data removed]",
      "text/plain": [
       "<Figure size 432x288 with 1 Axes>"
      ]
     },
     "metadata": {
      "needs_background": "light"
     },
     "output_type": "display_data"
    }
   ],
   "source": [
    "print(indexed_complete_data[test[1][1]][3])\n",
    "plt.imshow(indexed_complete_data[test[1][1]][-1], cmap='gray')"
   ]
  },
  {
   "cell_type": "code",
   "execution_count": 31,
   "metadata": {},
   "outputs": [],
   "source": [
    "def run_n_simulations(n, data):\n",
    "    \"\"\"Takes the number of simulations n and our original data as an input and shuffles the images n times \n",
    "    remember the accuracy of each shuffle then returns the overall percent accuracy a \n",
    "    long with the high and low accuracy\"\"\"\n",
    "    all_scores = []\n",
    "    for _ in range(n):\n",
    "        shuffled_data, testing_data, training_data = shuffle(complete_data)\n",
    "        test = fingerprint_test(testing_data, training_data)\n",
    "        score = give_score(test)\n",
    "        all_scores.append(score)\n",
    "    return all_scores"
   ]
  },
  {
   "cell_type": "code",
   "execution_count": 37,
   "metadata": {},
   "outputs": [
    {
     "name": "stdout",
     "output_type": "stream",
     "text": [
      "CPU times: user 22min 23s, sys: 1.05 s, total: 22min 24s\n",
      "Wall time: 22min 25s\n"
     ]
    }
   ],
   "source": [
    "%%time\n",
    "returned_scores = run_n_simulations(100, complete_data)"
   ]
  },
  {
   "cell_type": "code",
   "execution_count": 40,
   "metadata": {},
   "outputs": [
    {
     "data": {
      "text/plain": [
       "0.6478000000000003"
      ]
     },
     "execution_count": 40,
     "metadata": {},
     "output_type": "execute_result"
    }
   ],
   "source": [
    "sum(returned_scores)/100"
   ]
  },
  {
   "cell_type": "markdown",
   "metadata": {},
   "source": [
    "### Take a dive into the best_guess list in fingerprint_test"
   ]
  },
  {
   "cell_type": "code",
   "execution_count": null,
   "metadata": {},
   "outputs": [],
   "source": [
    "def fingerprint_test(testing, training):\n",
    "    \"\"\"Takes our testing data and training data as inputs and returns our closest match for each of the testing images\n",
    "    based on our 'training' images\"\"\"\n",
    "    guesses = []\n",
    "    for x in testing:\n",
    "        best_guess = []\n",
    "        for y in training:\n",
    "            best_guess.append([sum(abs(x[4]-y[4])) + sum(abs(x[5]-y[5])), y[0]])\n",
    "        guess_index = np.argmin([x[0] for x in best_guess])\n",
    "        guesses.append([x[0], best_guess[guess_index][1]])\n",
    "    return guesses"
   ]
  },
  {
   "cell_type": "code",
   "execution_count": 61,
   "metadata": {},
   "outputs": [],
   "source": [
    "def fingerprint_test_top_values(testing, training):\n",
    "    \"\"\"does the same as fingerprint_test but takes a closer look at the best_guess list to see how the function\n",
    "    is guessing\"\"\"\n",
    "    guesses = []\n",
    "    for x in testing:\n",
    "        best_guess = []\n",
    "        for y in training:\n",
    "            best_guess.append([sum(abs(x[4]-y[4])) + sum(abs(x[5]-y[5])), y[0], y[3]])\n",
    "        list_of_indexes = np.argpartition([x[0] for x in best_guess], range(5))[:5]\n",
    "        guesses.append([x[3], [indexed_complete_data[x][3] for x in list_of_indexes]])\n",
    "    return guesses"
   ]
  },
  {
   "cell_type": "code",
   "execution_count": 64,
   "metadata": {},
   "outputs": [
    {
     "name": "stdout",
     "output_type": "stream",
     "text": [
      "CPU times: user 14.5 s, sys: 11.4 ms, total: 14.5 s\n",
      "Wall time: 14.5 s\n"
     ]
    }
   ],
   "source": [
    "%%time\n",
    "top_five = fingerprint_test_top_values(testing_data, training_data)"
   ]
  },
  {
   "cell_type": "code",
   "execution_count": 63,
   "metadata": {},
   "outputs": [
    {
     "data": {
      "text/plain": [
       "[['a448-chuxi',\n",
       "  ['a751-oracle', 'a451-chuxi', 'a4d1-chuxi', 'a8bd-chuxi', 'b773-chuxi']],\n",
       " ['a56b-jinwen',\n",
       "  ['a4a7-chuxi', 'a9fa-smallseal', 'a4a7-chuxi', 'b54c-chuxi', 'a4a4-jinwen']],\n",
       " ['a4f1-jinwen',\n",
       "  ['a8a3-jinwen', 'a8ae-chuxi', 'a453-chuxi', 'a548-chuxi', 'a453-jinwen']],\n",
       " ['adab-jinwen',\n",
       "  ['a4a7-chuxi', 'aaf8-chuxi', 'bb50-chuxi', 'a5aa-chuxi', 'a4bd-chuxi']],\n",
       " ['a8c6-jinwen',\n",
       "  ['a4a3-chuxi', 'a473-chuxi', 'ac46-chuxi', 'a548-jinwen', 'a5a6-jinwen']],\n",
       " ['a448-chuxi',\n",
       "  ['a6b8-oracle', 'a457-chuxi', 'a4eb-chuxi', 'b1d0-oracle', 'a67e-jinwen']],\n",
       " ['a9d2-chuxi',\n",
       "  ['a56b-chuxi', 'a4a7-jinwen', 'a668-jinwen', 'b6c0-chuxi', 'a740-chuxi']],\n",
       " ['a8bd-chuxi',\n",
       "  ['b54c-chuxi', 'a8e4-jinwen', 'a56b-jinwen', 'a467-chuxi', 'a5d0-chuxi']],\n",
       " ['aaf7-jinwen',\n",
       "  ['a4d1-jinwen', 'aaf7-chuxi', 'a56b-jinwen', 'b0a8-chuxi', 'a4a7-chuxi']],\n",
       " ['b6c0-chuxi',\n",
       "  ['a447-chuxi', 'a5aa-chuxi', 'aaf8-chuxi', 'a4a7-chuxi', 'a4a7-jinwen']],\n",
       " ['a7da-jinwen',\n",
       "  ['a46a-jinwen', 'a67e-jinwen', 'a4d1-jinwen', 'a4fb-chuxi', 'a668-jinwen']],\n",
       " ['aa46-chuxi',\n",
       "  ['b944-jinwen', 'a6e6-chuxi', 'ab48-chuxi', 'a46b-jinwen', 'ae61-chuxi']],\n",
       " ['a4bd-chuxi',\n",
       "  ['a476-jinwen', 'a6ca-jinwen', 'a558-chuxi', 'a4a4-chuxi', 'a540-jinwen']],\n",
       " ['a5aa-chuxi',\n",
       "  ['a5aa-chuxi', 'a467-jinwen', 'a8ae-chuxi', 'a6d3-chuxi', 'a569-chuxi']],\n",
       " ['a4e8-chuxi',\n",
       "  ['b3bd-jinwen', 'a7da-jinwen', 'a46c-jinwen', 'a8a3-oracle', 'a4a4-chuxi']],\n",
       " ['a440-chuxi',\n",
       "  ['a4fb-chuxi', 'a4bd-jinwen', 'a5ce-jinwen', 'a448-chuxi', 'a4d1-jinwen']],\n",
       " ['a476-chuxi',\n",
       "  ['a4f1-oracle', 'a4ce-chuxi', 'a475-jinwen', 'a4eb-chuxi', 'a4bd-jinwen']],\n",
       " ['a453-chuxi',\n",
       "  ['a56b-chuxi', 'a5d5-chuxi', 'a4a7-chuxi', 'a4e9-chuxi', 'b0a8-chuxi']],\n",
       " ['bb50-chuxi',\n",
       "  ['a4eb-chuxi', 'a440-chuxi', 'b54c-jinwen', 'a9fa-jinwen', 'aaf9-chuxi']],\n",
       " ['a4e8-jinwen',\n",
       "  ['a448-chuxi', 'a5ce-jinwen', 'b160-chuxi', 'a6a8-jinwen', 'a4a7-chuxi']],\n",
       " ['a447-chuxi',\n",
       "  ['a56b-chuxi', 'ae61-chuxi', 'a451-chuxi', 'a8e4-jinwen', 'b773-chuxi']],\n",
       " ['a4a3-chuxi',\n",
       "  ['a46c-jinwen', 'a448-chuxi', 'a4a7-chuxi', 'a440-chuxi', 'aaf7-jinwen']],\n",
       " ['b6c0-jinwen',\n",
       "  ['a5c9-chuxi', 'bb50-chuxi', 'b54c-jinwen', 'a4bd-chuxi', 'a453-chuxi']],\n",
       " ['a4e5-jinwen',\n",
       "  ['a4a7-chuxi', 'a4a3-jinwen', 'b0a8-chuxi', 'aaf7-jinwen', 'a67e-jinwen']],\n",
       " ['a56b-jinwen',\n",
       "  ['a6db-chuxi', 'a9fa-smallseal', 'ae61-jinwen', 'a4a7-chuxi', 'a4fd-chuxi']],\n",
       " ['a56b-jinwen',\n",
       "  ['a4a7-chuxi', 'a4bd-jinwen', 'acdb-chuxi', 'a5a6-jinwen', 'a4a7-chuxi']],\n",
       " ['ad78-jinwen',\n",
       "  ['a4e9-jinwen', 'a4a4-chuxi', 'b944-jinwen', 'a45f-jinwen', 'a448-chuxi']],\n",
       " ['a447-chuxi',\n",
       "  ['a4eb-chuxi', 'a4a7-jinwen', 'aaf7-jinwen', 'a57e-jinwen', 'a548-chuxi']],\n",
       " ['a8e4-smallseal',\n",
       "  ['a4fd-chuxi', 'a470-jinwen', 'a5d5-chuxi', 'a4a3-chuxi', 'b3be-jinwen']],\n",
       " ['aacc-chuxi',\n",
       "  ['bb50-chuxi', 'b6c0-jinwen', 'a440-chuxi', 'a4a3-jinwen', 'a8e4-jinwen']],\n",
       " ['b773-chuxi',\n",
       "  ['a4f1-chuxi', 'a4a7-jinwen', 'a454-chuxi', 'a8e4-jinwen', 'b3be-jinwen']],\n",
       " ['a57e-chuxi',\n",
       "  ['a476-chuxi', 'a4a4-jinwen', 'a453-jinwen', 'a540-jinwen', 'a5ce-chuxi']],\n",
       " ['a6e6-chuxi',\n",
       "  ['a8ae-jinwen', 'a4a7-chuxi', 'a448-chuxi', 'a4eb-jinwen', 'a5bf-jinwen']],\n",
       " ['a46c-jinwen',\n",
       "  ['b6c0-jinwen', 'a55b-oracle', 'a67e-jinwen', 'a548-chuxi', 'a464-jinwen']],\n",
       " ['a7da-jinwen',\n",
       "  ['a4a4-jinwen',\n",
       "   'a453-jinwen',\n",
       "   'b773-chuxi',\n",
       "   'a6db-smallseal',\n",
       "   'a473-jinwen']],\n",
       " ['a8c6-chuxi',\n",
       "  ['a4a4-chuxi', 'a6a8-jinwen', 'a4fd-chuxi', 'b6c0-jinwen', 'a448-jinwen']],\n",
       " ['a4a7-jinwen',\n",
       "  ['a4e2-jinwen', 'bec7-oracle', 'a46c-jinwen', 'b0a8-chuxi', 'a548-chuxi']],\n",
       " ['a4bd-jinwen',\n",
       "  ['a45f-jinwen', 'a476-jinwen', 'aaf8-chuxi', 'a447-chuxi', 'a4a4-jinwen']],\n",
       " ['a4a7-chuxi',\n",
       "  ['a4a3-jinwen', 'a453-chuxi', 'a4f4-oracle', 'a4d2-chuxi', 'a5aa-chuxi']],\n",
       " ['a4d1-jinwen',\n",
       "  ['a448-chuxi', 'a548-jinwen', 'a4a7-chuxi', 'bb50-chuxi', 'a4a7-chuxi']],\n",
       " ['a6e8-oracle',\n",
       "  ['a4a7-chuxi', 'a4a7-chuxi', 'a6db-chuxi', 'b6c0-jinwen', 'a548-chuxi']],\n",
       " ['a8c3-jinwen',\n",
       "  ['a476-jinwen',\n",
       "   'b6c0-jinwen',\n",
       "   'a5d5-smallseal',\n",
       "   'a453-chuxi',\n",
       "   'a6db-chuxi']],\n",
       " ['a467-jinwen',\n",
       "  ['a4a4-jinwen', 'a44a-jinwen', 'a4eb-jinwen', 'a4a7-chuxi', 'a8c6-jinwen']],\n",
       " ['a4e5-jinwen',\n",
       "  ['a8c6-chuxi', 'a4d1-jinwen', 'a454-chuxi', 'a4e8-jinwen', 'a668-jinwen']],\n",
       " ['a4eb-chuxi',\n",
       "  ['b0a8-chuxi', 'a57e-chuxi', 'a8e4-jinwen', 'a4a7-jinwen', 'b6c0-jinwen']],\n",
       " ['aacc-jinwen',\n",
       "  ['b773-jinwen', 'a454-chuxi', 'a8a7-smallseal', 'a4a7-chuxi', 'a9d2-chuxi']],\n",
       " ['b3bd-chuxi',\n",
       "  ['b0a8-chuxi', 'b6c0-chuxi', 'b0a8-chuxi', 'a4eb-jinwen', 'a467-jinwen']],\n",
       " ['a4a7-chuxi',\n",
       "  ['bb50-chuxi', 'a6db-jinwen', 'a4a7-chuxi', 'a4a7-chuxi', 'a457-jinwen']],\n",
       " ['a45f-jinwen',\n",
       "  ['a4e9-chuxi', 'a977-chuxi', 'a668-jinwen', 'a447-chuxi', 'a4a3-chuxi']],\n",
       " ['a558-chuxi',\n",
       "  ['a447-chuxi',\n",
       "   'a4a7-chuxi',\n",
       "   'a8e4-jinwen',\n",
       "   'a5df-jinwen',\n",
       "   'a5bf-smallseal']],\n",
       " ['a46b-jinwen',\n",
       "  ['ac46-chuxi', 'a4a7-chuxi', 'a6e6-chuxi', 'a977-chuxi', 'a4eb-chuxi']],\n",
       " ['a6db-jinwen',\n",
       "  ['a46c-chuxi', 'aaf9-jinwen', 'aaf9-chuxi', 'aaf8-chuxi', 'a451-jinwen']],\n",
       " ['a4d1-jinwen',\n",
       "  ['a67e-jinwen', 'a4bd-chuxi', 'b0a8-jinwen', 'a448-chuxi', 'a6a8-jinwen']],\n",
       " ['a440-chuxi',\n",
       "  ['a6db-jinwen', 'a86b-jinwen', 'a453-chuxi', 'a4a4-jinwen', 'a4fd-chuxi']],\n",
       " ['a6db-chuxi',\n",
       "  ['a8e4-jinwen', 'a4a4-chuxi', 'a454-chuxi', 'a548-chuxi', 'a6d3-jinwen']],\n",
       " ['a4fd-chuxi',\n",
       "  ['a6d3-chuxi', 'a448-chuxi', 'a5bf-jinwen', 'b1d0-oracle', 'aaf7-jinwen']],\n",
       " ['a451-jinwen',\n",
       "  ['a5ce-jinwen', 'a5d5-jinwen', 'a4e9-jinwen', 'a8a3-chuxi', 'b54c-jinwen']],\n",
       " ['a46a-chuxi',\n",
       "  ['b6c0-chuxi', 'a4a4-jinwen', 'a540-jinwen', 'a5a6-jinwen', 'b773-chuxi']],\n",
       " ['a4bd-jinwen',\n",
       "  ['acdb-chuxi', 'a4bd-chuxi', 'a9fa-jinwen', 'a440-chuxi', 'a447-chuxi']],\n",
       " ['a4a7-chuxi',\n",
       "  ['a447-chuxi', 'a453-chuxi', 'a448-chuxi', 'aa47-jinwen', 'a6e6-jinwen']],\n",
       " ['a4a7-jinwen',\n",
       "  ['a454-jinwen', 'b16f-jinwen', 'a9ce-jinwen', 'a5fd-jinwen', 'a5ce-jinwen']],\n",
       " ['a5db-chuxi',\n",
       "  ['a457-chuxi', 'a977-chuxi', 'a548-chuxi', 'a4fd-chuxi', 'a4e9-jinwen']],\n",
       " ['a751-chuxi',\n",
       "  ['a4bd-chuxi', 'a7da-jinwen', 'a453-chuxi', 'a447-chuxi', 'a451-jinwen']],\n",
       " ['a5d5-chuxi',\n",
       "  ['a67e-jinwen', 'a5bf-jinwen', 'a6e8-oracle', 'a476-chuxi', 'a4e9-jinwen']],\n",
       " ['a977-chuxi',\n",
       "  ['a4bd-chuxi', 'a4a7-chuxi', 'a5d0-jinwen', 'b54c-jinwen', 'aacc-chuxi']],\n",
       " ['a46a-chuxi',\n",
       "  ['a4a7-chuxi', 'a451-jinwen', 'a56b-jinwen', 'a4a7-chuxi', 'a4a4-jinwen']],\n",
       " ['a4e5-jinwen',\n",
       "  ['b0a8-chuxi', 'a448-chuxi', 'a448-chuxi', 'b6c0-jinwen', 'a4eb-chuxi']],\n",
       " ['a4e5-jinwen',\n",
       "  ['b160-chuxi', 'a656-jinwen', 'a448-chuxi', 'a569-jinwen', 'a4bd-chuxi']],\n",
       " ['a454-chuxi',\n",
       "  ['a44a-oracle', 'a46c-jinwen', 'a5c1-chuxi', 'a45f-jinwen', 'aaf8-chuxi']],\n",
       " ['bb50-chuxi',\n",
       "  ['a5ce-jinwen', 'a5bf-jinwen', 'a4e9-chuxi', 'aaf9-jinwen', 'a45f-jinwen']],\n",
       " ['a4a3-chuxi',\n",
       "  ['a7da-jinwen',\n",
       "   'a440-chuxi',\n",
       "   'b944-smallseal',\n",
       "   'b3bd-jinwen',\n",
       "   'a67e-jinwen']],\n",
       " ['a558-chuxi',\n",
       "  ['a6d5-chuxi', 'a9d2-chuxi', 'a4a7-chuxi', 'a751-chuxi', 'a46b-jinwen']],\n",
       " ['a4a7-jinwen',\n",
       "  ['a67e-jinwen', 'b0a8-chuxi', 'b6c0-chuxi', 'aaf9-chuxi', 'a548-chuxi']],\n",
       " ['a5db-jinwen',\n",
       "  ['a4a7-chuxi', 'a4bd-jinwen', 'a473-jinwen', 'a548-jinwen', 'a447-chuxi']],\n",
       " ['a5a6-jinwen',\n",
       "  ['a8c6-chuxi', 'b54c-jinwen', 'a5ce-jinwen', 'a8e4-jinwen', 'b0a8-chuxi']],\n",
       " ['a8c6-jinwen',\n",
       "  ['a558-jinwen', 'a8ad-jinwen', 'a4eb-chuxi', 'a4eb-chuxi', 'a448-chuxi']],\n",
       " ['a440-chuxi',\n",
       "  ['a470-jinwen', 'a5ce-jinwen', 'a447-jinwen', 'a4a7-chuxi', 'a4a7-chuxi']],\n",
       " ['a4a7-chuxi',\n",
       "  ['a440-chuxi', 'a4e8-oracle', 'a8e4-jinwen', 'a46a-chuxi', 'a8ae-jinwen']],\n",
       " ['a46b-jinwen',\n",
       "  ['a5a6-jinwen', 'a46b-jinwen', 'a440-chuxi', 'ae61-jinwen', 'b6c0-jinwen']],\n",
       " ['a67e-jinwen',\n",
       "  ['a4e5-jinwen', 'a4e5-jinwen', 'a440-chuxi', 'bb50-chuxi', 'a4e8-oracle']],\n",
       " ['bb50-chuxi',\n",
       "  ['a4d2-chuxi', 'a4e5-jinwen', 'a5bf-chuxi', 'aaf9-chuxi', 'a448-chuxi']],\n",
       " ['a4d2-jinwen',\n",
       "  ['a4eb-chuxi', 'a4fd-smallseal', 'a440-jinwen', 'a8c6-chuxi', 'a447-chuxi']],\n",
       " ['a4eb-jinwen',\n",
       "  ['a46c-chuxi', 'a6d3-jinwen', 'a5a6-jinwen', 'a4a3-jinwen', 'a447-chuxi']],\n",
       " ['a4a7-chuxi',\n",
       "  ['a8ae-jinwen', 'a457-chuxi', 'b3be-jinwen', 'a4a3-jinwen', 'a4a7-chuxi']],\n",
       " ['a4a7-chuxi',\n",
       "  ['a440-chuxi', 'a453-chuxi', 'a4a7-chuxi', 'a4a7-chuxi', 'b773-jinwen']],\n",
       " ['a453-chuxi',\n",
       "  ['a9d2-chuxi', 'b6c0-chuxi', 'b3bd-chuxi', 'ae61-smallseal', 'b0a8-jinwen']],\n",
       " ['a6ca-jinwen',\n",
       "  ['a4e9-chuxi', 'a6e6-chuxi', 'a6db-chuxi', 'a5d5-chuxi', 'b0a8-chuxi']],\n",
       " ['aa46-jinwen',\n",
       "  ['a6e6-chuxi', 'a6e6-chuxi', 'a4a4-jinwen', 'a46b-chuxi', 'a4e5-jinwen']],\n",
       " ['a8c6-jinwen',\n",
       "  ['a67e-jinwen', 'a67e-jinwen', 'a4eb-jinwen', 'a4fb-chuxi', 'b16f-chuxi']],\n",
       " ['a4eb-jinwen',\n",
       "  ['a451-chuxi', 'a4e9-chuxi', 'a454-jinwen', 'bb50-chuxi', 'a4eb-chuxi']],\n",
       " ['a5d5-chuxi',\n",
       "  ['a6e8-jinwen',\n",
       "   'aaf7-chuxi',\n",
       "   'a8c6-smallseal',\n",
       "   'a6a8-jinwen',\n",
       "   'a5aa-chuxi']],\n",
       " ['a548-jinwen',\n",
       "  ['bb50-chuxi', 'a977-jinwen', 'a476-chuxi', 'a558-jinwen', 'a6ca-jinwen']],\n",
       " ['b6c0-jinwen',\n",
       "  ['a5df-jinwen', 'a558-jinwen', 'a4a3-chuxi', 'a4eb-chuxi', 'bb50-chuxi']],\n",
       " ['a8e4-jinwen',\n",
       "  ['a5ce-jinwen',\n",
       "   'b16f-jinwen',\n",
       "   'a4f4-chuxi',\n",
       "   'b6c0-smallseal',\n",
       "   'a548-jinwen']],\n",
       " ['a44a-jinwen',\n",
       "  ['a9fa-jinwen', 'a4eb-jinwen', 'a4ec-chuxi', 'a473-chuxi', 'a440-chuxi']],\n",
       " ['a453-chuxi',\n",
       "  ['aaf7-chuxi', 'b3bd-chuxi', 'a440-chuxi', 'b0ea-chuxi', 'a558-chuxi']],\n",
       " ['a467-chuxi',\n",
       "  ['a8e4-smallseal',\n",
       "   'b0a8-chuxi',\n",
       "   'a4e9-jinwen',\n",
       "   'a4fd-jinwen',\n",
       "   'a6ca-jinwen']],\n",
       " ['a4a7-chuxi',\n",
       "  ['a4e9-chuxi', 'a8e4-jinwen', 'a548-chuxi', 'a448-chuxi', 'a5ce-jinwen']],\n",
       " ['a45f-jinwen',\n",
       "  ['a4bd-jinwen', 'a5fd-chuxi', 'a4fd-jinwen', 'a4a7-chuxi', 'a440-chuxi']],\n",
       " ['a5d0-jinwen',\n",
       "  ['a6e8-jinwen', 'a8d3-jinwen', 'a4a4-chuxi', 'a9d2-chuxi', 'aaf8-jinwen']]]"
      ]
     },
     "execution_count": 63,
     "metadata": {},
     "output_type": "execute_result"
    }
   ],
   "source": [
    "top_five"
   ]
  },
  {
   "cell_type": "code",
   "execution_count": 65,
   "metadata": {},
   "outputs": [],
   "source": [
    "def give_score_from_top_five(test):\n",
    "    \"\"\"Takes our return object from fingerprint_test and returns the percent accuracy of our model\"\"\"\n",
    "    total = 0\n",
    "    correct = 0\n",
    "    for x, y in test:\n",
    "        if x == y[0]:\n",
    "            correct += 1\n",
    "        total += 1\n",
    "    return correct/total"
   ]
  },
  {
   "cell_type": "code",
   "execution_count": 66,
   "metadata": {},
   "outputs": [
    {
     "data": {
      "text/plain": [
       "0.01"
      ]
     },
     "execution_count": 66,
     "metadata": {},
     "output_type": "execute_result"
    }
   ],
   "source": [
    "give_score_from_top_five(top_five)"
   ]
  },
  {
   "cell_type": "code",
   "execution_count": 68,
   "metadata": {},
   "outputs": [],
   "source": [
    "current = fingerprint_test(testing_data, training_data)"
   ]
  },
  {
   "cell_type": "code",
   "execution_count": 69,
   "metadata": {},
   "outputs": [
    {
     "data": {
      "text/plain": [
       "0.69"
      ]
     },
     "execution_count": 69,
     "metadata": {},
     "output_type": "execute_result"
    }
   ],
   "source": [
    "give_score(current)"
   ]
  },
  {
   "cell_type": "code",
   "execution_count": null,
   "metadata": {},
   "outputs": [],
   "source": []
  },
  {
   "cell_type": "code",
   "execution_count": null,
   "metadata": {},
   "outputs": [],
   "source": []
  },
  {
   "cell_type": "code",
   "execution_count": null,
   "metadata": {},
   "outputs": [],
   "source": []
  },
  {
   "cell_type": "code",
   "execution_count": null,
   "metadata": {},
   "outputs": [],
   "source": []
  },
  {
   "cell_type": "code",
   "execution_count": null,
   "metadata": {},
   "outputs": [],
   "source": []
  }
 ],
 "metadata": {
  "kernelspec": {
   "display_name": "Python 3",
   "language": "python",
   "name": "python3"
  },
  "language_info": {
   "codemirror_mode": {
    "name": "ipython",
    "version": 3
   },
   "file_extension": ".py",
   "mimetype": "text/x-python",
   "name": "python",
   "nbconvert_exporter": "python",
   "pygments_lexer": "ipython3",
   "version": "3.7.1"
  }
 },
 "nbformat": 4,
 "nbformat_minor": 2
}
