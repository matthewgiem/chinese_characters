{
 "cells": [
  {
   "cell_type": "code",
   "execution_count": 1,
   "metadata": {},
   "outputs": [],
   "source": [
    "import glob\n",
    "import cv2\n",
    "import os\n",
    "import matplotlib.pyplot as plt\n",
    "import numpy as np\n",
    "import random\n",
    "import time"
   ]
  },
  {
   "cell_type": "code",
   "execution_count": 2,
   "metadata": {},
   "outputs": [],
   "source": [
    "DataDir = 'ignore_folder/data'\n",
    "Categories_all = ['a5df', 'a447', 'a440', 'a476', 'a67e', 'ae61', \n",
    "                  'a470', 'a448', 'a9d2', 'a44a', 'a5d0', 'a569', \n",
    "                  'acdb', 'a8e2', 'a558', 'a4ce', 'a4f1', 'a4e9', \n",
    "                  'a6ca', 'b773', 'ab42', 'a8e4', 'a4e8', 'ad78', \n",
    "                  'b944', 'a8c6', 'a6d1', 'a977', 'a57e', 'a8a3', \n",
    "                  'a4d2', 'a6b3', 'a8ad', 'a740', 'a8bd', 'a8ae', \n",
    "                  'a4a7', 'b3a3', 'a46c', 'a464', 'a656', 'a5fe', \n",
    "                  'a455', 'a5c1', 'a658', 'b3be', 'a45d', 'a9fa', \n",
    "                  'a46b', 'a9ce', 'a453', 'ac46', 'a454', 'b3bd', \n",
    "                  'a5c9', 'a650', 'a668', 'a5fd', 'a5d5', 'a5aa', \n",
    "                  'a5db', 'a7da', 'a5a6', 'a475', 'a5bf', 'adfb', \n",
    "                  'a474', 'a473', 'afe0', 'a8c3', 'a55b', 'bec7', \n",
    "                  'b54c', 'a6e7', 'a4ec', 'a4fb', 'a751', 'a56b', \n",
    "                  'b0a8', 'a4f4', 'a6e6', 'a4e2', 'a6e8', 'a4e5', \n",
    "                  'a4fd', 'bb50', 'ab48', 'a4c0', 'a4eb', 'b0aa', \n",
    "                  'a8e0', 'a6a8', 'a6db', 'bb44', 'b16f', 'a8d3', \n",
    "                  'a6b9', 'a540', 'a6d5', 'b0ea', 'aaf8', 'a8a7', \n",
    "                  'a4d1', 'a4bd', 'a6b8', 'b6c0', 'a4a3', 'a548', \n",
    "                  'a4a4', 'aaf7', 'b160', 'a6d3', 'aaf9', 'aacc', \n",
    "                  'a86b', 'aa47', 'a467', 'b1d0', 'a451', 'a45f', \n",
    "                  'a5ce', 'a457', 'adab', 'aa46', 'a46a']\n",
    "IMG_X = 100\n",
    "IMG_Y = 100"
   ]
  },
  {
   "cell_type": "code",
   "execution_count": 53,
   "metadata": {},
   "outputs": [],
   "source": [
    "def create_training_data():\n",
    "    \"\"\"takes no arguments, accessess data in file and returns it as a list containing [0] category, \n",
    "    [1] class_type, [2] category + class_type, [3] horizontal average, [4] vertical average, \n",
    "    [5] the original image resized to be a 100 X 100 array\"\"\"\n",
    "    data = []\n",
    "    for category in Categories_all:\n",
    "        path = os.path.join(DataDir, category)\n",
    "        class_num = Categories_all.index(category)\n",
    "        for img in os.listdir(path):\n",
    "            if 'jinwen' in img:\n",
    "                class_type = 'jinwen'\n",
    "            if 'chuxi' in img:\n",
    "                class_type = 'chuxi'\n",
    "            if 'smallseal' in img:\n",
    "                class_type = 'smallseal'\n",
    "            if 'oracle' in img:\n",
    "                class_type = 'oracle'\n",
    "            try:\n",
    "                img_array = cv2.imread(os.path.join(path,img), \n",
    "                                       cv2.IMREAD_GRAYSCALE)\n",
    "                new_array = cv2.resize(img_array, (IMG_Y, IMG_X))\n",
    "                horizontal_average = np.average(new_array, axis=1)\n",
    "                vertical_average = np.average(new_array, axis=0)\n",
    "                data.append([category, class_type, category + \"-\" + class_type, \n",
    "                             horizontal_average, vertical_average, new_array])\n",
    "            except Exception as e:\n",
    "                print('something went wrong')\n",
    "    return data"
   ]
  },
  {
   "cell_type": "code",
   "execution_count": 54,
   "metadata": {},
   "outputs": [],
   "source": [
    "complete_data = create_training_data()"
   ]
  },
  {
   "cell_type": "code",
   "execution_count": 55,
   "metadata": {},
   "outputs": [],
   "source": [
    "def shuffle(data):\n",
    "    \"\"\"takes a list of data as an input and outputs a shuffled list \n",
    "    with 100 testing data elements and the rest as training data\"\"\"\n",
    "    random.shuffle(data)\n",
    "    testing_data = data[-100:]\n",
    "    training_data = data[0:-100]\n",
    "    return data, testing_data, training_data"
   ]
  },
  {
   "cell_type": "code",
   "execution_count": 56,
   "metadata": {},
   "outputs": [],
   "source": [
    "shuffled_data, testing_data, training_data = shuffle(complete_data)"
   ]
  },
  {
   "cell_type": "code",
   "execution_count": 57,
   "metadata": {},
   "outputs": [
    {
     "data": {
      "text/plain": [
       "<matplotlib.image.AxesImage at 0x11e7e4d68>"
      ]
     },
     "execution_count": 57,
     "metadata": {},
     "output_type": "execute_result"
    },
    {
     "data": {
      "image/png": "[encoded data removed]",
      "text/plain": [
       "<Figure size 432x288 with 1 Axes>"
      ]
     },
     "metadata": {
      "needs_background": "light"
     },
     "output_type": "display_data"
    }
   ],
   "source": [
    "plt.imshow(shuffled_data[0][-1], cmap='gray')"
   ]
  },
  {
   "cell_type": "code",
   "execution_count": null,
   "metadata": {},
   "outputs": [],
   "source": []
  },
  {
   "cell_type": "code",
   "execution_count": null,
   "metadata": {},
   "outputs": [],
   "source": []
  },
  {
   "cell_type": "code",
   "execution_count": null,
   "metadata": {},
   "outputs": [],
   "source": []
  },
  {
   "cell_type": "code",
   "execution_count": null,
   "metadata": {},
   "outputs": [],
   "source": []
  },
  {
   "cell_type": "code",
   "execution_count": null,
   "metadata": {},
   "outputs": [],
   "source": []
  },
  {
   "cell_type": "code",
   "execution_count": null,
   "metadata": {},
   "outputs": [],
   "source": []
  },
  {
   "cell_type": "code",
   "execution_count": null,
   "metadata": {},
   "outputs": [],
   "source": []
  },
  {
   "cell_type": "code",
   "execution_count": null,
   "metadata": {},
   "outputs": [],
   "source": []
  },
  {
   "cell_type": "code",
   "execution_count": null,
   "metadata": {},
   "outputs": [],
   "source": []
  },
  {
   "cell_type": "code",
   "execution_count": null,
   "metadata": {},
   "outputs": [],
   "source": []
  },
  {
   "cell_type": "code",
   "execution_count": null,
   "metadata": {},
   "outputs": [],
   "source": []
  }
 ],
 "metadata": {
  "kernelspec": {
   "display_name": "Python 3",
   "language": "python",
   "name": "python3"
  },
  "language_info": {
   "codemirror_mode": {
    "name": "ipython",
    "version": 3
   },
   "file_extension": ".py",
   "mimetype": "text/x-python",
   "name": "python",
   "nbconvert_exporter": "python",
   "pygments_lexer": "ipython3",
   "version": "3.7.1"
  }
 },
 "nbformat": 4,
 "nbformat_minor": 2
}
