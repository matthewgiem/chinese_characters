{
 "cells": [
  {
   "cell_type": "code",
   "execution_count": 79,
   "metadata": {},
   "outputs": [],
   "source": [
    "import glob\n",
    "import cv2\n",
    "import os\n",
    "import matplotlib.pyplot as plt\n",
    "import numpy as np\n",
    "import random\n",
    "import time"
   ]
  },
  {
   "cell_type": "code",
   "execution_count": 80,
   "metadata": {},
   "outputs": [],
   "source": [
    "DataDir = 'ignore_folder/data'\n",
    "Categories_all = ['a5df', 'a447', 'a440', 'a476', 'a67e', 'ae61', \n",
    "                  'a470', 'a448', 'a9d2', 'a44a', 'a5d0', 'a569', \n",
    "                  'acdb', 'a8e2', 'a558', 'a4ce', 'a4f1', 'a4e9', \n",
    "                  'a6ca', 'b773', 'ab42', 'a8e4', 'a4e8', 'ad78', \n",
    "                  'b944', 'a8c6', 'a6d1', 'a977', 'a57e', 'a8a3', \n",
    "                  'a4d2', 'a6b3', 'a8ad', 'a740', 'a8bd', 'a8ae', \n",
    "                  'a4a7', 'b3a3', 'a46c', 'a464', 'a656', 'a5fe', \n",
    "                  'a455', 'a5c1', 'a658', 'b3be', 'a45d', 'a9fa', \n",
    "                  'a46b', 'a9ce', 'a453', 'ac46', 'a454', 'b3bd', \n",
    "                  'a5c9', 'a650', 'a668', 'a5fd', 'a5d5', 'a5aa', \n",
    "                  'a5db', 'a7da', 'a5a6', 'a475', 'a5bf', 'adfb', \n",
    "                  'a474', 'a473', 'afe0', 'a8c3', 'a55b', 'bec7', \n",
    "                  'b54c', 'a6e7', 'a4ec', 'a4fb', 'a751', 'a56b', \n",
    "                  'b0a8', 'a4f4', 'a6e6', 'a4e2', 'a6e8', 'a4e5', \n",
    "                  'a4fd', 'bb50', 'ab48', 'a4c0', 'a4eb', 'b0aa', \n",
    "                  'a8e0', 'a6a8', 'a6db', 'bb44', 'b16f', 'a8d3', \n",
    "                  'a6b9', 'a540', 'a6d5', 'b0ea', 'aaf8', 'a8a7', \n",
    "                  'a4d1', 'a4bd', 'a6b8', 'b6c0', 'a4a3', 'a548', \n",
    "                  'a4a4', 'aaf7', 'b160', 'a6d3', 'aaf9', 'aacc', \n",
    "                  'a86b', 'aa47', 'a467', 'b1d0', 'a451', 'a45f', \n",
    "                  'a5ce', 'a457', 'adab', 'aa46', 'a46a']\n",
    "IMG_X = 100\n",
    "IMG_Y = 100"
   ]
  },
  {
   "cell_type": "code",
   "execution_count": 81,
   "metadata": {},
   "outputs": [],
   "source": [
    "def create_training_data():\n",
    "    \"\"\"takes no arguments, accessess data in file and returns it as a list containing [0] a unique id, \n",
    "    [1] category, [2] class_type, [3] category + class_type, [4] horizontal average, [5] vertical average, \n",
    "    [6] the original image resized to be a 100 X 100 array\"\"\"\n",
    "    data = []\n",
    "    unique_id = 0\n",
    "    for category in Categories_all:\n",
    "        path = os.path.join(DataDir, category)\n",
    "        class_num = Categories_all.index(category)\n",
    "        for img in os.listdir(path):\n",
    "            if 'jinwen' in img:\n",
    "                class_type = 'jinwen'\n",
    "            if 'chuxi' in img:\n",
    "                class_type = 'chuxi'\n",
    "            if 'smallseal' in img:\n",
    "                class_type = 'smallseal'\n",
    "            if 'oracle' in img:\n",
    "                class_type = 'oracle'\n",
    "            try:\n",
    "                img_array = cv2.imread(os.path.join(path,img), \n",
    "                                       cv2.IMREAD_GRAYSCALE)\n",
    "                new_array = cv2.resize(img_array, (IMG_Y, IMG_X))\n",
    "                horizontal_average = np.average(new_array, axis=1)\n",
    "                vertical_average = np.average(new_array, axis=0)\n",
    "                data.append([unique_id, category, class_type, category + \"-\" + class_type, \n",
    "                             horizontal_average, vertical_average, new_array])\n",
    "                unique_id += 1\n",
    "            except Exception as e:\n",
    "                print('something went wrong')\n",
    "    return data"
   ]
  },
  {
   "cell_type": "code",
   "execution_count": 82,
   "metadata": {},
   "outputs": [],
   "source": [
    "complete_data = create_training_data()"
   ]
  },
  {
   "cell_type": "code",
   "execution_count": 83,
   "metadata": {},
   "outputs": [
    {
     "data": {
      "text/plain": [
       "0"
      ]
     },
     "execution_count": 83,
     "metadata": {},
     "output_type": "execute_result"
    }
   ],
   "source": [
    "complete_data[0][0]"
   ]
  },
  {
   "cell_type": "code",
   "execution_count": 84,
   "metadata": {},
   "outputs": [
    {
     "data": {
      "text/plain": [
       "8231"
      ]
     },
     "execution_count": 84,
     "metadata": {},
     "output_type": "execute_result"
    }
   ],
   "source": [
    "complete_data[-1][0]"
   ]
  },
  {
   "cell_type": "code",
   "execution_count": 85,
   "metadata": {},
   "outputs": [
    {
     "data": {
      "text/plain": [
       "8232"
      ]
     },
     "execution_count": 85,
     "metadata": {},
     "output_type": "execute_result"
    }
   ],
   "source": [
    "len(complete_data)"
   ]
  },
  {
   "cell_type": "code",
   "execution_count": 86,
   "metadata": {},
   "outputs": [],
   "source": [
    "indexed_complete_data = complete_data.copy()"
   ]
  },
  {
   "cell_type": "code",
   "execution_count": null,
   "metadata": {},
   "outputs": [],
   "source": []
  },
  {
   "cell_type": "code",
   "execution_count": null,
   "metadata": {},
   "outputs": [],
   "source": []
  },
  {
   "cell_type": "code",
   "execution_count": 87,
   "metadata": {},
   "outputs": [],
   "source": [
    "def shuffle(data):\n",
    "    \"\"\"takes a list of data as an input and outputs a shuffled list \n",
    "    with 100 testing data elements and the rest as training data\"\"\"\n",
    "    random.shuffle(data)\n",
    "    testing_data = data[-10:]\n",
    "    training_data = data[0:-10]\n",
    "    return data, testing_data, training_data"
   ]
  },
  {
   "cell_type": "code",
   "execution_count": 88,
   "metadata": {},
   "outputs": [],
   "source": [
    "shuffled_data, testing_data, training_data = shuffle(complete_data)"
   ]
  },
  {
   "cell_type": "code",
   "execution_count": 89,
   "metadata": {},
   "outputs": [
    {
     "data": {
      "text/plain": [
       "7229"
      ]
     },
     "execution_count": 89,
     "metadata": {},
     "output_type": "execute_result"
    }
   ],
   "source": [
    "shuffled_data[0][0]"
   ]
  },
  {
   "cell_type": "code",
   "execution_count": 90,
   "metadata": {},
   "outputs": [
    {
     "data": {
      "text/plain": [
       "7229"
      ]
     },
     "execution_count": 90,
     "metadata": {},
     "output_type": "execute_result"
    }
   ],
   "source": [
    "complete_data[0][0]"
   ]
  },
  {
   "cell_type": "code",
   "execution_count": 91,
   "metadata": {},
   "outputs": [
    {
     "data": {
      "text/plain": [
       "0"
      ]
     },
     "execution_count": 91,
     "metadata": {},
     "output_type": "execute_result"
    }
   ],
   "source": [
    "indexed_complete_data[0][0]"
   ]
  },
  {
   "cell_type": "code",
   "execution_count": 92,
   "metadata": {},
   "outputs": [
    {
     "data": {
      "text/plain": [
       "[7229,\n",
       " 'aaf7',\n",
       " 'chuxi',\n",
       " 'aaf7-chuxi',\n",
       " array([  3.08,   6.27,  10.18,  12.18,  15.5 ,  19.05,  19.05,  21.65,\n",
       "         26.08,  28.24,  29.31,  29.3 ,  31.23,  34.95,  41.01,  49.39,\n",
       "         57.94,  66.39,  78.01,  89.28,  97.41,  96.87,  92.61,  86.29,\n",
       "         77.1 ,  67.22,  65.24,  61.91,  57.55,  51.46,  47.41,  45.38,\n",
       "         41.35,  45.08,  59.63,  66.62,  73.63,  82.56,  87.35,  86.77,\n",
       "         74.44,  71.09,  70.66,  68.45,  55.32,  36.88,  22.47,  19.96,\n",
       "         26.27,  36.67,  42.84,  44.75,  48.69,  51.85,  53.91,  65.44,\n",
       "         77.41,  88.1 ,  90.18,  90.19,  90.2 ,  94.84, 102.41, 115.15,\n",
       "        115.53, 109.38, 102.87,  89.02,  70.08,  55.67,  46.28,  41.91,\n",
       "         39.81,  39.59,  41.82,  38.39,  36.4 ,  38.52,  60.98,  84.85,\n",
       "         99.55, 106.49, 110.95, 117.31,  98.95,  70.73,  68.46,  65.17,\n",
       "         61.21,  59.09,  57.98,  57.9 ,  61.96,  60.85,  52.47,  40.47,\n",
       "         25.12,   4.05,   0.  ,   0.  ]),\n",
       " array([0.0000e+00, 0.0000e+00, 0.0000e+00, 0.0000e+00, 0.0000e+00,\n",
       "        0.0000e+00, 0.0000e+00, 0.0000e+00, 0.0000e+00, 4.0000e-02,\n",
       "        6.1700e+00, 1.0040e+01, 1.3170e+01, 1.6290e+01, 1.9260e+01,\n",
       "        2.5430e+01, 3.3930e+01, 4.0630e+01, 4.3410e+01, 4.6780e+01,\n",
       "        4.9850e+01, 5.4560e+01, 5.9580e+01, 6.3100e+01, 6.5970e+01,\n",
       "        6.9260e+01, 7.2690e+01, 7.7830e+01, 8.7720e+01, 1.2417e+02,\n",
       "        1.3791e+02, 1.4857e+02, 1.6127e+02, 1.6416e+02, 1.4675e+02,\n",
       "        1.2429e+02, 1.0481e+02, 9.4060e+01, 9.3970e+01, 9.6780e+01,\n",
       "        1.0175e+02, 1.0557e+02, 1.0637e+02, 1.1569e+02, 1.3291e+02,\n",
       "        1.5353e+02, 1.6623e+02, 1.5662e+02, 1.4454e+02, 1.3904e+02,\n",
       "        1.2161e+02, 9.4840e+01, 8.2790e+01, 7.6160e+01, 7.2160e+01,\n",
       "        7.3270e+01, 7.9580e+01, 8.5830e+01, 8.9200e+01, 9.2130e+01,\n",
       "        9.7270e+01, 1.0514e+02, 1.0238e+02, 1.1247e+02, 1.0879e+02,\n",
       "        9.5040e+01, 8.5720e+01, 7.9580e+01, 6.8600e+01, 5.7830e+01,\n",
       "        4.9240e+01, 4.2900e+01, 4.2970e+01, 4.0850e+01, 3.6390e+01,\n",
       "        3.0830e+01, 2.7860e+01, 2.7380e+01, 2.5150e+01, 2.3140e+01,\n",
       "        2.3200e+01, 2.3700e+01, 2.1160e+01, 1.8030e+01, 1.3830e+01,\n",
       "        7.8400e+00, 7.8400e+00, 5.6100e+00, 2.5000e+00, 0.0000e+00,\n",
       "        0.0000e+00, 0.0000e+00, 0.0000e+00, 0.0000e+00, 0.0000e+00,\n",
       "        0.0000e+00, 0.0000e+00, 0.0000e+00, 0.0000e+00, 0.0000e+00]),\n",
       " array([[0, 0, 0, ..., 0, 0, 0],\n",
       "        [0, 0, 0, ..., 0, 0, 0],\n",
       "        [0, 0, 0, ..., 0, 0, 0],\n",
       "        ...,\n",
       "        [0, 0, 0, ..., 0, 0, 0],\n",
       "        [0, 0, 0, ..., 0, 0, 0],\n",
       "        [0, 0, 0, ..., 0, 0, 0]], dtype=uint8)]"
      ]
     },
     "execution_count": 92,
     "metadata": {},
     "output_type": "execute_result"
    }
   ],
   "source": [
    "shuffled_data[0]"
   ]
  },
  {
   "cell_type": "code",
   "execution_count": 93,
   "metadata": {},
   "outputs": [
    {
     "data": {
      "text/plain": [
       "<matplotlib.image.AxesImage at 0x124d75f60>"
      ]
     },
     "execution_count": 93,
     "metadata": {},
     "output_type": "execute_result"
    },
    {
     "data": {
      "image/png": "[encoded data removed]",
      "text/plain": [
       "<Figure size 432x288 with 1 Axes>"
      ]
     },
     "metadata": {
      "needs_background": "light"
     },
     "output_type": "display_data"
    }
   ],
   "source": [
    "plt.imshow(shuffled_data[0][-1], cmap='gray')"
   ]
  },
  {
   "cell_type": "code",
   "execution_count": 94,
   "metadata": {},
   "outputs": [],
   "source": [
    "def fingerprint_test(testing, training):\n",
    "    \"\"\"Takes our testing data and training data as inputs and returns our closest match for each of the testing images\n",
    "    based on our 'training' images\"\"\"\n",
    "    guesses = []\n",
    "    for x in testing:\n",
    "        best_guess = []\n",
    "        for y in training:\n",
    "            best_guess.append([sum(abs(x[4]-y[4])) + sum(abs(x[5]-y[5])), y[0]])\n",
    "        guess_index = np.argmin([x[0] for x in best_guess])\n",
    "        guesses.append([x[0], best_guess[guess_index][1]])\n",
    "    return guesses"
   ]
  },
  {
   "cell_type": "code",
   "execution_count": 95,
   "metadata": {},
   "outputs": [],
   "source": [
    "test = fingerprint_test(testing_data, training_data)"
   ]
  },
  {
   "cell_type": "code",
   "execution_count": 96,
   "metadata": {},
   "outputs": [],
   "source": [
    "def give_score(test):\n",
    "    \"\"\"Takes our return object from fingerprint_test and returns the percent accuracy of our model\"\"\"\n",
    "    total = 0\n",
    "    correct = 0\n",
    "    for x, y in test:\n",
    "        if indexed_complete_data[x][1] == indexed_complete_data[y][1]:\n",
    "            correct += 1\n",
    "        total += 1\n",
    "    return correct/total"
   ]
  },
  {
   "cell_type": "code",
   "execution_count": 97,
   "metadata": {},
   "outputs": [],
   "source": [
    "score = give_score(test)"
   ]
  },
  {
   "cell_type": "code",
   "execution_count": 98,
   "metadata": {},
   "outputs": [
    {
     "data": {
      "text/plain": [
       "0.9"
      ]
     },
     "execution_count": 98,
     "metadata": {},
     "output_type": "execute_result"
    }
   ],
   "source": [
    "score"
   ]
  },
  {
   "cell_type": "code",
   "execution_count": 99,
   "metadata": {},
   "outputs": [
    {
     "data": {
      "text/plain": [
       "10"
      ]
     },
     "execution_count": 99,
     "metadata": {},
     "output_type": "execute_result"
    }
   ],
   "source": [
    "len(test)"
   ]
  },
  {
   "cell_type": "code",
   "execution_count": 100,
   "metadata": {},
   "outputs": [
    {
     "data": {
      "text/plain": [
       "[7253, 7308]"
      ]
     },
     "execution_count": 100,
     "metadata": {},
     "output_type": "execute_result"
    }
   ],
   "source": [
    "test[1]"
   ]
  },
  {
   "cell_type": "code",
   "execution_count": 23,
   "metadata": {},
   "outputs": [
    {
     "name": "stdout",
     "output_type": "stream",
     "text": [
      "a4e9-chuxi\n"
     ]
    },
    {
     "data": {
      "text/plain": [
       "<matplotlib.image.AxesImage at 0x124594390>"
      ]
     },
     "execution_count": 23,
     "metadata": {},
     "output_type": "execute_result"
    },
    {
     "data": {
      "image/png": "[encoded data removed]",
      "text/plain": [
       "<Figure size 432x288 with 1 Axes>"
      ]
     },
     "metadata": {
      "needs_background": "light"
     },
     "output_type": "display_data"
    }
   ],
   "source": [
    "print(indexed_complete_data[test[1][0]][3])\n",
    "plt.imshow(indexed_complete_data[test[1][0]][-1], cmap='gray')"
   ]
  },
  {
   "cell_type": "code",
   "execution_count": 24,
   "metadata": {},
   "outputs": [
    {
     "name": "stdout",
     "output_type": "stream",
     "text": [
      "a4e9-chuxi\n"
     ]
    },
    {
     "data": {
      "text/plain": [
       "<matplotlib.image.AxesImage at 0x124537b38>"
      ]
     },
     "execution_count": 24,
     "metadata": {},
     "output_type": "execute_result"
    },
    {
     "data": {
      "image/png": "[encoded data removed]",
      "text/plain": [
       "<Figure size 432x288 with 1 Axes>"
      ]
     },
     "metadata": {
      "needs_background": "light"
     },
     "output_type": "display_data"
    }
   ],
   "source": [
    "print(indexed_complete_data[test[1][1]][3])\n",
    "plt.imshow(indexed_complete_data[test[1][1]][-1], cmap='gray')"
   ]
  },
  {
   "cell_type": "code",
   "execution_count": 25,
   "metadata": {},
   "outputs": [],
   "source": [
    "def run_n_simulations(n, data):\n",
    "    \"\"\"Takes the number of simulations n and our original data as an input and shuffles the images n times \n",
    "    remember the accuracy of each shuffle then returns the overall percent accuracy a \n",
    "    long with the high and low accuracy\"\"\"\n",
    "    all_scores = []\n",
    "    for _ in range(n):\n",
    "        shuffled_data, testing_data, training_data = shuffle(complete_data)\n",
    "        test = fingerprint_test(testing_data, training_data)\n",
    "        score = give_score(test)\n",
    "        all_scores.append(score)\n",
    "    return all_scores"
   ]
  },
  {
   "cell_type": "code",
   "execution_count": 26,
   "metadata": {},
   "outputs": [
    {
     "name": "stdout",
     "output_type": "stream",
     "text": [
      "CPU times: user 2min 10s, sys: 34.8 ms, total: 2min 10s\n",
      "Wall time: 2min 10s\n"
     ]
    }
   ],
   "source": [
    "%%time\n",
    "returned_scores = run_n_simulations(100, complete_data)"
   ]
  },
  {
   "cell_type": "code",
   "execution_count": 27,
   "metadata": {},
   "outputs": [
    {
     "data": {
      "text/plain": [
       "0.6700000000000002"
      ]
     },
     "execution_count": 27,
     "metadata": {},
     "output_type": "execute_result"
    }
   ],
   "source": [
    "sum(returned_scores)/100"
   ]
  },
  {
   "cell_type": "markdown",
   "metadata": {},
   "source": [
    "### Take a dive into the best_guess list in fingerprint_test"
   ]
  },
  {
   "cell_type": "code",
   "execution_count": null,
   "metadata": {},
   "outputs": [],
   "source": [
    "def fingerprint_test(testing, training):\n",
    "    \"\"\"Takes our testing data and training data as inputs and returns our closest match for each of the testing images\n",
    "    based on our 'training' images\"\"\"\n",
    "    guesses = []\n",
    "    for x in testing:\n",
    "        best_guess = []\n",
    "        for y in training:\n",
    "            best_guess.append([sum(abs(x[4]-y[4])) + sum(abs(x[5]-y[5])), y[0]])\n",
    "        guess_index = np.argmin([x[0] for x in best_guess])\n",
    "        guesses.append([x[0], best_guess[guess_index][1]])\n",
    "    return guesses"
   ]
  },
  {
   "cell_type": "code",
   "execution_count": 75,
   "metadata": {},
   "outputs": [],
   "source": [
    "def fingerprint_test_top_values(testing, training):\n",
    "    \"\"\"does the same as fingerprint_test but takes a closer look at the best_guess list to see how the function\n",
    "    is guessing\"\"\"\n",
    "    guesses = []\n",
    "    for x in testing:\n",
    "        best_guess = []\n",
    "        for y in training:\n",
    "            best_guess.append([sum(abs(x[4]-y[4])) + sum(abs(x[5]-y[5])), y[0], y[3]])\n",
    "        guesses.append([x[3], x[0], best_guess.sort(key=lambda x: x[0])])\n",
    "            \n",
    "            \n",
    "            \n",
    "#         list_of_indexes = np.argpartition([x[0] for x in best_guess], range(5))[:5]\n",
    "#         guesses.append([x[3], [indexed_complete_data[x][3] for x in list_of_indexes]])\n",
    "    return guesses"
   ]
  },
  {
   "cell_type": "code",
   "execution_count": 76,
   "metadata": {},
   "outputs": [
    {
     "name": "stdout",
     "output_type": "stream",
     "text": [
      "CPU times: user 1.4 s, sys: 1.51 ms, total: 1.41 s\n",
      "Wall time: 1.41 s\n"
     ]
    }
   ],
   "source": [
    "%%time\n",
    "top_five = fingerprint_test_top_values(testing_data, training_data)"
   ]
  },
  {
   "cell_type": "code",
   "execution_count": 69,
   "metadata": {},
   "outputs": [],
   "source": [
    "for results in top_five:\n",
    "    results[2].sort(key=lambda x: x[0])\n",
    "    results[2] = results[2][:10]"
   ]
  },
  {
   "cell_type": "code",
   "execution_count": 78,
   "metadata": {},
   "outputs": [
    {
     "data": {
      "text/plain": [
       "['a4e9-chuxi', 1401, None]"
      ]
     },
     "execution_count": 78,
     "metadata": {},
     "output_type": "execute_result"
    }
   ],
   "source": [
    "top_five[1]"
   ]
  },
  {
   "cell_type": "code",
   "execution_count": null,
   "metadata": {},
   "outputs": [],
   "source": []
  },
  {
   "cell_type": "code",
   "execution_count": 61,
   "metadata": {},
   "outputs": [
    {
     "data": {
      "text/plain": [
       "<matplotlib.image.AxesImage at 0x1259ab080>"
      ]
     },
     "execution_count": 61,
     "metadata": {},
     "output_type": "execute_result"
    },
    {
     "data": {
      "image/png": "[encoded data removed]",
      "text/plain": [
       "<Figure size 432x288 with 1 Axes>"
      ]
     },
     "metadata": {
      "needs_background": "light"
     },
     "output_type": "display_data"
    }
   ],
   "source": [
    "plt.imshow(indexed_complete_data[1205][-1], cmap='gray')"
   ]
  },
  {
   "cell_type": "code",
   "execution_count": 63,
   "metadata": {},
   "outputs": [
    {
     "data": {
      "text/plain": [
       "<matplotlib.image.AxesImage at 0x125ac86d8>"
      ]
     },
     "execution_count": 63,
     "metadata": {},
     "output_type": "execute_result"
    },
    {
     "data": {
      "image/png": "[encoded data removed]",
      "text/plain": [
       "<Figure size 432x288 with 1 Axes>"
      ]
     },
     "metadata": {
      "needs_background": "light"
     },
     "output_type": "display_data"
    }
   ],
   "source": [
    "plt.imshow(indexed_complete_data[1317][-1], cmap='gray')"
   ]
  },
  {
   "cell_type": "code",
   "execution_count": null,
   "metadata": {},
   "outputs": [],
   "source": []
  },
  {
   "cell_type": "code",
   "execution_count": null,
   "metadata": {},
   "outputs": [],
   "source": []
  },
  {
   "cell_type": "code",
   "execution_count": 51,
   "metadata": {},
   "outputs": [],
   "source": [
    "def give_score_from_top_five(test):\n",
    "    \"\"\"Takes our return object from fingerprint_test and returns the percent accuracy of our model\"\"\"\n",
    "    total = 0\n",
    "    correct = 0\n",
    "    for x, y in test:\n",
    "        if x == y[0]:\n",
    "            correct += 1\n",
    "        total += 1\n",
    "    return correct/total"
   ]
  },
  {
   "cell_type": "code",
   "execution_count": 52,
   "metadata": {},
   "outputs": [
    {
     "ename": "ValueError",
     "evalue": "too many values to unpack (expected 2)",
     "output_type": "error",
     "traceback": [
      "\u001b[0;31m---------------------------------------------------------------------------\u001b[0m",
      "\u001b[0;31mValueError\u001b[0m                                Traceback (most recent call last)",
      "\u001b[0;32m<ipython-input-52-37cc18515e07>\u001b[0m in \u001b[0;36m<module>\u001b[0;34m\u001b[0m\n\u001b[0;32m----> 1\u001b[0;31m \u001b[0mgive_score_from_top_five\u001b[0m\u001b[0;34m(\u001b[0m\u001b[0mtop_five\u001b[0m\u001b[0;34m)\u001b[0m\u001b[0;34m\u001b[0m\u001b[0;34m\u001b[0m\u001b[0m\n\u001b[0m",
      "\u001b[0;32m<ipython-input-51-9b0763be6e2a>\u001b[0m in \u001b[0;36mgive_score_from_top_five\u001b[0;34m(test)\u001b[0m\n\u001b[1;32m      3\u001b[0m     \u001b[0mtotal\u001b[0m \u001b[0;34m=\u001b[0m \u001b[0;36m0\u001b[0m\u001b[0;34m\u001b[0m\u001b[0;34m\u001b[0m\u001b[0m\n\u001b[1;32m      4\u001b[0m     \u001b[0mcorrect\u001b[0m \u001b[0;34m=\u001b[0m \u001b[0;36m0\u001b[0m\u001b[0;34m\u001b[0m\u001b[0;34m\u001b[0m\u001b[0m\n\u001b[0;32m----> 5\u001b[0;31m     \u001b[0;32mfor\u001b[0m \u001b[0mx\u001b[0m\u001b[0;34m,\u001b[0m \u001b[0my\u001b[0m \u001b[0;32min\u001b[0m \u001b[0mtest\u001b[0m\u001b[0;34m:\u001b[0m\u001b[0;34m\u001b[0m\u001b[0;34m\u001b[0m\u001b[0m\n\u001b[0m\u001b[1;32m      6\u001b[0m         \u001b[0;32mif\u001b[0m \u001b[0mx\u001b[0m \u001b[0;34m==\u001b[0m \u001b[0my\u001b[0m\u001b[0;34m[\u001b[0m\u001b[0;36m0\u001b[0m\u001b[0;34m]\u001b[0m\u001b[0;34m:\u001b[0m\u001b[0;34m\u001b[0m\u001b[0;34m\u001b[0m\u001b[0m\n\u001b[1;32m      7\u001b[0m             \u001b[0mcorrect\u001b[0m \u001b[0;34m+=\u001b[0m \u001b[0;36m1\u001b[0m\u001b[0;34m\u001b[0m\u001b[0;34m\u001b[0m\u001b[0m\n",
      "\u001b[0;31mValueError\u001b[0m: too many values to unpack (expected 2)"
     ]
    }
   ],
   "source": [
    "give_score_from_top_five(top_five)"
   ]
  },
  {
   "cell_type": "code",
   "execution_count": 68,
   "metadata": {},
   "outputs": [],
   "source": [
    "current = fingerprint_test(testing_data, training_data)"
   ]
  },
  {
   "cell_type": "code",
   "execution_count": 69,
   "metadata": {},
   "outputs": [
    {
     "data": {
      "text/plain": [
       "0.69"
      ]
     },
     "execution_count": 69,
     "metadata": {},
     "output_type": "execute_result"
    }
   ],
   "source": [
    "give_score(current)"
   ]
  },
  {
   "cell_type": "code",
   "execution_count": null,
   "metadata": {},
   "outputs": [],
   "source": []
  },
  {
   "cell_type": "code",
   "execution_count": null,
   "metadata": {},
   "outputs": [],
   "source": []
  },
  {
   "cell_type": "code",
   "execution_count": null,
   "metadata": {},
   "outputs": [],
   "source": []
  },
  {
   "cell_type": "code",
   "execution_count": null,
   "metadata": {},
   "outputs": [],
   "source": []
  },
  {
   "cell_type": "code",
   "execution_count": null,
   "metadata": {},
   "outputs": [],
   "source": []
  }
 ],
 "metadata": {
  "kernelspec": {
   "display_name": "Python 3",
   "language": "python",
   "name": "python3"
  },
  "language_info": {
   "codemirror_mode": {
    "name": "ipython",
    "version": 3
   },
   "file_extension": ".py",
   "mimetype": "text/x-python",
   "name": "python",
   "nbconvert_exporter": "python",
   "pygments_lexer": "ipython3",
   "version": "3.7.1"
  }
 },
 "nbformat": 4,
 "nbformat_minor": 2
}
