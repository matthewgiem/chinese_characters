{
 "cells": [
  {
   "cell_type": "code",
   "execution_count": 1,
   "metadata": {},
   "outputs": [],
   "source": [
    "import glob\n",
    "import imageio\n",
    "import numpy as np\n",
    "import matplotlib.pyplot as plt\n",
    "import os\n",
    "import cv2\n",
    "from tqdm import tqdm\n",
    "import tensorflow as tf\n",
    "# from tensorflow.keras.preprocessing.image import ImageDataGenerator\n",
    "# from tensorflow.keras.models import Sequential\n",
    "# from tensorflow.keras.layers import Dense, Dropout, Activation, Flatten\n",
    "# from tensorflow.keras.layers import Conv2D, MaxPooling2D\n",
    "from tensorflow.keras.callbacks import TensorBoard\n",
    "import random\n",
    "import pickle\n",
    "import time"
   ]
  },
  {
   "cell_type": "code",
   "execution_count": 2,
   "metadata": {},
   "outputs": [],
   "source": [
    "from tensorflow.keras import datasets"
   ]
  },
  {
   "cell_type": "code",
   "execution_count": 3,
   "metadata": {},
   "outputs": [],
   "source": [
    "import tensorflow as tf\n"
   ]
  },
  {
   "cell_type": "code",
   "execution_count": 4,
   "metadata": {},
   "outputs": [],
   "source": [
    "from tensorflow.python.keras import datasets"
   ]
  },
  {
   "cell_type": "code",
   "execution_count": 5,
   "metadata": {},
   "outputs": [],
   "source": [
    "pickle_in = open('ignore_folder/train_X.pickle', 'rb')\n",
    "Xtrain = pickle.load(pickle_in)\n",
    "pickle_in = open('ignore_folder/train_y.pickle', 'rb')\n",
    "ytrain = pickle.load(pickle_in)"
   ]
  },
  {
   "cell_type": "code",
   "execution_count": 6,
   "metadata": {},
   "outputs": [
    {
     "data": {
      "text/plain": [
       "numpy.ndarray"
      ]
     },
     "execution_count": 6,
     "metadata": {},
     "output_type": "execute_result"
    }
   ],
   "source": [
    "type(Xtrain)"
   ]
  },
  {
   "cell_type": "code",
   "execution_count": 7,
   "metadata": {},
   "outputs": [
    {
     "data": {
      "text/plain": [
       "(1965, 65, 79)"
      ]
     },
     "execution_count": 7,
     "metadata": {},
     "output_type": "execute_result"
    }
   ],
   "source": [
    "Xtrain.shape"
   ]
  },
  {
   "cell_type": "code",
   "execution_count": 8,
   "metadata": {},
   "outputs": [
    {
     "data": {
      "text/plain": [
       "numpy.ndarray"
      ]
     },
     "execution_count": 8,
     "metadata": {},
     "output_type": "execute_result"
    }
   ],
   "source": [
    "type(Xtrain[0])"
   ]
  },
  {
   "cell_type": "code",
   "execution_count": 9,
   "metadata": {},
   "outputs": [
    {
     "data": {
      "text/plain": [
       "list"
      ]
     },
     "execution_count": 9,
     "metadata": {},
     "output_type": "execute_result"
    }
   ],
   "source": [
    "type(ytrain)"
   ]
  },
  {
   "cell_type": "code",
   "execution_count": 10,
   "metadata": {},
   "outputs": [],
   "source": [
    "ytrain = np.asarray(ytrain)"
   ]
  },
  {
   "cell_type": "code",
   "execution_count": 11,
   "metadata": {},
   "outputs": [
    {
     "data": {
      "text/plain": [
       "numpy.ndarray"
      ]
     },
     "execution_count": 11,
     "metadata": {},
     "output_type": "execute_result"
    }
   ],
   "source": [
    "type(ytrain)"
   ]
  },
  {
   "cell_type": "code",
   "execution_count": 12,
   "metadata": {},
   "outputs": [
    {
     "data": {
      "text/plain": [
       "array([6, 6, 4, 3, 7, 7, 3, 5, 5, 7])"
      ]
     },
     "execution_count": 12,
     "metadata": {},
     "output_type": "execute_result"
    }
   ],
   "source": [
    "ytrain[:10]"
   ]
  },
  {
   "cell_type": "code",
   "execution_count": 13,
   "metadata": {},
   "outputs": [
    {
     "data": {
      "text/plain": [
       "array([[0, 0, 0, ..., 0, 0, 0],\n",
       "       [0, 0, 0, ..., 0, 0, 0],\n",
       "       [0, 0, 0, ..., 0, 0, 0],\n",
       "       ...,\n",
       "       [0, 0, 0, ..., 0, 0, 0],\n",
       "       [0, 0, 0, ..., 0, 0, 0],\n",
       "       [0, 0, 0, ..., 0, 0, 0]], dtype=uint8)"
      ]
     },
     "execution_count": 13,
     "metadata": {},
     "output_type": "execute_result"
    }
   ],
   "source": [
    "Xtrain[0]"
   ]
  },
  {
   "cell_type": "code",
   "execution_count": 14,
   "metadata": {},
   "outputs": [
    {
     "data": {
      "text/plain": [
       "<matplotlib.image.AxesImage at 0xb30e122b0>"
      ]
     },
     "execution_count": 14,
     "metadata": {},
     "output_type": "execute_result"
    },
    {
     "data": {
      "image/png": "[encoded data removed]",
      "text/plain": [
       "<Figure size 432x288 with 1 Axes>"
      ]
     },
     "metadata": {
      "needs_background": "light"
     },
     "output_type": "display_data"
    }
   ],
   "source": [
    "plt.imshow(Xtrain[0])"
   ]
  },
  {
   "cell_type": "code",
   "execution_count": 15,
   "metadata": {},
   "outputs": [
    {
     "data": {
      "text/plain": [
       "<matplotlib.image.AxesImage at 0xb30f4eef0>"
      ]
     },
     "execution_count": 15,
     "metadata": {},
     "output_type": "execute_result"
    },
    {
     "data": {
      "image/png": "[encoded data removed]",
      "text/plain": [
       "<Figure size 432x288 with 1 Axes>"
      ]
     },
     "metadata": {
      "needs_background": "light"
     },
     "output_type": "display_data"
    }
   ],
   "source": [
    "plt.imshow(Xtrain[0], cmap = plt.cm.binary)"
   ]
  },
  {
   "cell_type": "code",
   "execution_count": 16,
   "metadata": {},
   "outputs": [],
   "source": [
    "Xtest = Xtrain[:100]"
   ]
  },
  {
   "cell_type": "code",
   "execution_count": 17,
   "metadata": {},
   "outputs": [],
   "source": [
    "ytest = ytrain[:100]"
   ]
  },
  {
   "cell_type": "code",
   "execution_count": 18,
   "metadata": {},
   "outputs": [
    {
     "data": {
      "text/plain": [
       "1965"
      ]
     },
     "execution_count": 18,
     "metadata": {},
     "output_type": "execute_result"
    }
   ],
   "source": [
    "len(Xtrain)"
   ]
  },
  {
   "cell_type": "code",
   "execution_count": 19,
   "metadata": {},
   "outputs": [
    {
     "data": {
      "text/plain": [
       "100"
      ]
     },
     "execution_count": 19,
     "metadata": {},
     "output_type": "execute_result"
    }
   ],
   "source": [
    "len(Xtrain[:100])"
   ]
  },
  {
   "cell_type": "code",
   "execution_count": 20,
   "metadata": {},
   "outputs": [
    {
     "data": {
      "text/plain": [
       "1865"
      ]
     },
     "execution_count": 20,
     "metadata": {},
     "output_type": "execute_result"
    }
   ],
   "source": [
    "len(Xtrain[:-100])"
   ]
  },
  {
   "cell_type": "code",
   "execution_count": 21,
   "metadata": {},
   "outputs": [
    {
     "data": {
      "text/plain": [
       "1865"
      ]
     },
     "execution_count": 21,
     "metadata": {},
     "output_type": "execute_result"
    }
   ],
   "source": [
    "len(Xtrain[0:-100])"
   ]
  },
  {
   "cell_type": "code",
   "execution_count": 22,
   "metadata": {},
   "outputs": [],
   "source": [
    "Xtrain = Xtrain[0:-100]"
   ]
  },
  {
   "cell_type": "code",
   "execution_count": 23,
   "metadata": {},
   "outputs": [],
   "source": [
    "ytrain = ytrain[0:-100]"
   ]
  },
  {
   "cell_type": "code",
   "execution_count": 24,
   "metadata": {},
   "outputs": [],
   "source": [
    "model = tf.keras.models.Sequential()\n",
    "model.add(tf.keras.layers.Flatten(input_shape=Xtrain[0].shape))\n",
    "model.add(tf.keras.layers.Dense(128, activation=tf.nn.relu))\n",
    "model.add(tf.keras.layers.Dense(128, activation=tf.nn.relu))\n",
    "model.add(tf.keras.layers.Dense(128, activation=tf.nn.relu))\n",
    "model.add(tf.keras.layers.Dense(8, activation=tf.nn.softmax))\n",
    "\n",
    "model.compile(optimizer='adam',\n",
    "             loss='sparse_categorical_crossentropy',\n",
    "             metrics=['accuracy'])\n",
    "\n",
    "Name = \"Chinese-Characters-NN-128x3-{}\".format(int(time.time()))\n",
    "\n",
    "tensorboard = TensorBoard(log_dir='logs/{}'.format(Name))"
   ]
  },
  {
   "cell_type": "code",
   "execution_count": 25,
   "metadata": {},
   "outputs": [
    {
     "name": "stdout",
     "output_type": "stream",
     "text": [
      "Train on 1305 samples, validate on 560 samples\n",
      "Epoch 1/20\n",
      "1305/1305 [==============================] - 1s 410us/step - loss: 8.2318 - acc: 0.4820 - val_loss: 7.0542 - val_acc: 0.5607\n",
      "Epoch 2/20\n",
      "1305/1305 [==============================] - 0s 245us/step - loss: 8.8977 - acc: 0.4460 - val_loss: 9.1528 - val_acc: 0.4321\n",
      "Epoch 3/20\n",
      "1305/1305 [==============================] - 0s 229us/step - loss: 9.1898 - acc: 0.4291 - val_loss: 9.0952 - val_acc: 0.4357\n",
      "Epoch 4/20\n",
      "1305/1305 [==============================] - 0s 229us/step - loss: 9.1203 - acc: 0.4337 - val_loss: 8.7210 - val_acc: 0.4589\n",
      "Epoch 5/20\n",
      "1305/1305 [==============================] - 0s 242us/step - loss: 9.0580 - acc: 0.4375 - val_loss: 8.6347 - val_acc: 0.4643\n",
      "Epoch 6/20\n",
      "1305/1305 [==============================] - 0s 230us/step - loss: 8.8433 - acc: 0.4513 - val_loss: 8.6946 - val_acc: 0.4589\n",
      "Epoch 7/20\n",
      "1305/1305 [==============================] - 0s 229us/step - loss: 8.8186 - acc: 0.4529 - val_loss: 8.6923 - val_acc: 0.4607\n",
      "Epoch 8/20\n",
      "1305/1305 [==============================] - 0s 227us/step - loss: 8.8063 - acc: 0.4536 - val_loss: 8.6923 - val_acc: 0.4607\n",
      "Epoch 9/20\n",
      "1305/1305 [==============================] - 0s 231us/step - loss: 8.8063 - acc: 0.4536 - val_loss: 8.6923 - val_acc: 0.4607\n",
      "Epoch 10/20\n",
      "1305/1305 [==============================] - 0s 231us/step - loss: 8.8063 - acc: 0.4536 - val_loss: 8.6923 - val_acc: 0.4607\n",
      "Epoch 11/20\n",
      "1305/1305 [==============================] - 0s 229us/step - loss: 8.8063 - acc: 0.4536 - val_loss: 8.6923 - val_acc: 0.4607\n",
      "Epoch 12/20\n",
      "1305/1305 [==============================] - 0s 233us/step - loss: 8.8063 - acc: 0.4536 - val_loss: 8.6923 - val_acc: 0.4607\n",
      "Epoch 13/20\n",
      "1305/1305 [==============================] - 0s 235us/step - loss: 8.8063 - acc: 0.4536 - val_loss: 8.6923 - val_acc: 0.4607\n",
      "Epoch 14/20\n",
      "1305/1305 [==============================] - 0s 345us/step - loss: 8.8063 - acc: 0.4536 - val_loss: 8.6923 - val_acc: 0.4607\n",
      "Epoch 15/20\n",
      "1305/1305 [==============================] - 0s 343us/step - loss: 8.8063 - acc: 0.4536 - val_loss: 8.6923 - val_acc: 0.4607\n",
      "Epoch 16/20\n",
      "1305/1305 [==============================] - 0s 270us/step - loss: 8.8063 - acc: 0.4536 - val_loss: 8.6923 - val_acc: 0.4607\n",
      "Epoch 17/20\n",
      "1305/1305 [==============================] - 0s 242us/step - loss: 8.8063 - acc: 0.4536 - val_loss: 8.6923 - val_acc: 0.4607\n",
      "Epoch 18/20\n",
      "1305/1305 [==============================] - 0s 275us/step - loss: 8.8063 - acc: 0.4536 - val_loss: 8.6923 - val_acc: 0.4607\n",
      "Epoch 19/20\n",
      "1305/1305 [==============================] - 0s 237us/step - loss: 8.8063 - acc: 0.4536 - val_loss: 8.6923 - val_acc: 0.4607\n",
      "Epoch 20/20\n",
      "1305/1305 [==============================] - 0s 240us/step - loss: 8.8063 - acc: 0.4536 - val_loss: 8.6923 - val_acc: 0.4607\n"
     ]
    },
    {
     "data": {
      "text/plain": [
       "<tensorflow.python.keras.callbacks.History at 0xb310004a8>"
      ]
     },
     "execution_count": 25,
     "metadata": {},
     "output_type": "execute_result"
    }
   ],
   "source": [
    "model.fit(Xtrain, ytrain, epochs=20, validation_split=0.3, callbacks=[tensorboard])"
   ]
  },
  {
   "cell_type": "code",
   "execution_count": 26,
   "metadata": {},
   "outputs": [
    {
     "name": "stdout",
     "output_type": "stream",
     "text": [
      "100/100 [==============================] - 0s 86us/step\n",
      "9.832038116455077 0.39\n"
     ]
    }
   ],
   "source": [
    "val_loss, val_acc = model.evaluate(Xtest, ytest)\n",
    "print(val_loss, val_acc)"
   ]
  },
  {
   "cell_type": "code",
   "execution_count": null,
   "metadata": {},
   "outputs": [],
   "source": []
  }
 ],
 "metadata": {
  "kernelspec": {
   "display_name": "Python 3",
   "language": "python",
   "name": "python3"
  },
  "language_info": {
   "codemirror_mode": {
    "name": "ipython",
    "version": 3
   },
   "file_extension": ".py",
   "mimetype": "text/x-python",
   "name": "python",
   "nbconvert_exporter": "python",
   "pygments_lexer": "ipython3",
   "version": "3.7.1"
  }
 },
 "nbformat": 4,
 "nbformat_minor": 2
}
