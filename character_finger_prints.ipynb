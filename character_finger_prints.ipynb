{
 "cells": [
  {
   "cell_type": "code",
   "execution_count": 26,
   "metadata": {},
   "outputs": [],
   "source": [
    "import glob\n",
    "import cv2\n",
    "import os\n",
    "import matplotlib.pyplot as plt\n",
    "import numpy as np"
   ]
  },
  {
   "cell_type": "code",
   "execution_count": 27,
   "metadata": {},
   "outputs": [],
   "source": [
    "DataDir = 'ignore_folder/data'\n",
    "Categories_all = ['a5df', 'a447', 'a440', 'a476', 'a67e', 'ae61', 'a470', 'a448', 'a9d2', 'a44a', 'a5d0', 'a569', 'acdb', 'a8e2', 'a558', 'a4ce', 'a4f1', 'a4e9', 'a6ca', 'b773', 'ab42', 'a8e4', 'a4e8', 'ad78', 'b944', 'a8c6', 'a6d1', 'a977', 'a57e', 'a8a3', 'a4d2', 'a6b3', 'a8ad', 'a740', 'a8bd', 'a8ae', 'a4a7', 'b3a3', 'a46c', 'a464', 'a656', 'a5fe', 'a455', 'a5c1', 'a658', 'b3be', 'a45d', 'a9fa', 'a46b', 'a9ce', 'a453', 'ac46', 'a454', 'b3bd', 'a5c9', 'a650', 'a668', 'a5fd', 'a5d5', 'a5aa', 'a5db', 'a7da', 'a5a6', 'a475', 'a5bf', 'adfb', 'a474', 'a473', 'afe0', 'a8c3', 'a55b', 'bec7', 'b54c', 'a6e7', 'a4ec', 'a4fb', 'a751', 'a56b', 'b0a8', 'a4f4', 'a6e6', 'a4e2', 'a6e8', 'a4e5', 'a4fd', 'bb50', 'ab48', 'a4c0', 'a4eb', 'b0aa', 'a8e0', 'a6a8', 'a6db', 'bb44', 'b16f', 'a8d3', 'a6b9', 'a540', 'a6d5', 'b0ea', 'aaf8', 'a8a7', 'a4d1', 'a4bd', 'a6b8', 'b6c0', 'a4a3', 'a548', 'a4a4', 'aaf7', 'b160', 'a6d3', 'aaf9', 'aacc', 'a86b', 'aa47', 'a467', 'b1d0', 'a451', 'a45f', 'a5ce', 'a457', 'adab', 'aa46', 'a46a']"
   ]
  },
  {
   "cell_type": "code",
   "execution_count": 28,
   "metadata": {},
   "outputs": [
    {
     "data": {
      "image/png": "[encoded data removed]",
      "text/plain": [
       "<Figure size 432x288 with 1 Axes>"
      ]
     },
     "metadata": {
      "needs_background": "light"
     },
     "output_type": "display_data"
    }
   ],
   "source": [
    "for category in Categories_all:\n",
    "    path = os.path.join(DataDir,category)\n",
    "    for img in os.listdir(path):\n",
    "        img_array = cv2.imread(os.path.join(path,img), cv2.IMREAD_GRAYSCALE)\n",
    "        plt.imshow(img_array, cmap='gray')\n",
    "        plt.show()\n",
    "        break\n",
    "    break"
   ]
  },
  {
   "cell_type": "code",
   "execution_count": 29,
   "metadata": {},
   "outputs": [
    {
     "data": {
      "text/plain": [
       "(65, 79)"
      ]
     },
     "execution_count": 29,
     "metadata": {},
     "output_type": "execute_result"
    }
   ],
   "source": [
    "img_array.shape"
   ]
  },
  {
   "cell_type": "code",
   "execution_count": 30,
   "metadata": {},
   "outputs": [
    {
     "data": {
      "image/png": "[encoded data removed]",
      "text/plain": [
       "<Figure size 432x288 with 1 Axes>"
      ]
     },
     "metadata": {
      "needs_background": "light"
     },
     "output_type": "display_data"
    }
   ],
   "source": [
    "IMG_X = 100\n",
    "IMG_Y = 100\n",
    "\n",
    "new_array = cv2.resize(img_array, (IMG_Y, IMG_X)) # after checkning they need to be rearanged\n",
    "plt.imshow(new_array, cmap='gray')\n",
    "plt.show()"
   ]
  },
  {
   "cell_type": "code",
   "execution_count": 39,
   "metadata": {},
   "outputs": [
    {
     "data": {
      "text/plain": [
       "array([  3.28,   7.89,  13.4 ,  15.43,  17.46,  19.49,  21.72,  22.67,\n",
       "        22.67,  22.67,  22.67,  22.67,  22.67,  22.66,  22.66,  22.67,\n",
       "        22.67,  22.67,  22.67,  22.67,  22.67,  22.67,  22.67,  22.67,\n",
       "        22.67,  23.37,  29.43,  35.75,  42.33,  50.64,  59.06,  67.59,\n",
       "        76.01,  84.28,  92.34,  99.14, 101.83,  97.16,  88.01,  79.38,\n",
       "        75.12,  58.74,  39.06,  24.3 ,  19.23,  19.24,  19.23,  19.23,\n",
       "        19.32,  21.55,  23.7 ,  25.74,  25.82,  25.81,  25.81,  27.86,\n",
       "        30.07,  32.07,  34.08,  35.54,  35.54,  37.  ,  39.02,  41.02,\n",
       "        41.72,  41.7 ,  41.75,  40.56,  38.69,  41.06,  42.25,  42.25,\n",
       "        40.17,  38.91,  38.9 ,  36.86,  35.28,  35.04,  36.63,  38.15,\n",
       "        38.35,  40.09,  41.96,  42.11,  46.13,  55.89,  94.14, 122.25,\n",
       "       142.41, 148.44, 150.54, 148.72, 140.43, 124.87,  99.72,  61.51,\n",
       "        27.6 ,   4.46,   0.  ,   0.  ])"
      ]
     },
     "execution_count": 39,
     "metadata": {},
     "output_type": "execute_result"
    }
   ],
   "source": [
    "np.average(new_array, axis=1)"
   ]
  },
  {
   "cell_type": "code",
   "execution_count": 40,
   "metadata": {},
   "outputs": [
    {
     "data": {
      "text/plain": [
       "array([  0.  ,   0.  ,   0.  ,   0.  ,   0.  ,   0.  ,   0.  ,   0.  ,\n",
       "         0.  ,   0.  ,   0.  ,   0.  ,   0.  ,   0.  ,   0.  ,   0.  ,\n",
       "         0.  ,   0.  ,   0.5 ,   3.87,  12.14,  17.5 ,  22.85,  31.68,\n",
       "        31.68,  34.27,  38.97,  44.04,  46.92,  50.19,  51.  ,  52.44,\n",
       "        56.17,  62.65,  68.79,  81.33,  91.4 ,  94.78, 101.24, 112.91,\n",
       "       115.74, 129.56, 171.23, 199.58, 196.76, 189.19, 185.66, 188.42,\n",
       "       188.12, 190.52, 159.64, 107.9 ,  98.44, 104.2 , 105.91, 103.08,\n",
       "        96.36,  87.29,  80.67,  70.36,  61.34,  57.85,  51.61,  45.69,\n",
       "        43.22,  41.19,  34.81,  31.84,  31.17,  27.98,  22.51,  19.44,\n",
       "        19.38,  17.32,  15.75,  15.75,  15.75,  10.01,   5.63,   2.48,\n",
       "         0.  ,   0.  ,   0.  ,   0.  ,   0.  ,   0.  ,   0.  ,   0.  ,\n",
       "         0.  ,   0.  ,   0.  ,   0.  ,   0.  ,   0.  ,   0.  ,   0.  ,\n",
       "         0.  ,   0.  ,   0.  ,   0.  ])"
      ]
     },
     "execution_count": 40,
     "metadata": {},
     "output_type": "execute_result"
    }
   ],
   "source": [
    "np.average(new_array, axis=0)"
   ]
  },
  {
   "cell_type": "code",
   "execution_count": 75,
   "metadata": {},
   "outputs": [],
   "source": [
    "training_data = []\n",
    "\n",
    "def create_training_data():\n",
    "    for category in Categories_all:\n",
    "        path = os.path.join(DataDir, category)\n",
    "        class_num = Categories_all.index(category)\n",
    "        for img in os.listdir(path):\n",
    "            if 'jinwen' in img:\n",
    "                class_type = 'jinwen'\n",
    "            if 'chuxi' in img:\n",
    "                class_type = 'chuxi'\n",
    "            if 'smallseal' in img:\n",
    "                class_type = 'smallseal'\n",
    "            if 'oracle' in img:\n",
    "                class_type = 'oracle'\n",
    "            try:\n",
    "                img_array = cv2.imread(os.path.join(path,img), cv2.IMREAD_GRAYSCALE)\n",
    "                new_array = cv2.resize(img_array, (IMG_Y, IMG_X))\n",
    "                training_data.append([new_array, class_num, class_type])\n",
    "            except Exception as e:\n",
    "                print('something went wrong')\n"
   ]
  },
  {
   "cell_type": "code",
   "execution_count": 82,
   "metadata": {},
   "outputs": [],
   "source": [
    "create_training_data()"
   ]
  },
  {
   "cell_type": "code",
   "execution_count": 83,
   "metadata": {},
   "outputs": [],
   "source": [
    "finger_print = []\n",
    "\n",
    "def create_finger_print(data):\n",
    "    for picture in data:\n",
    "        horizontal_average = np.average(picture[0], axis=1)\n",
    "        vertical_average = np.average(picture[0], axis=0)\n",
    "        finger_print.append([horizontal_average, vertical_average, picture[1], picture[2]])"
   ]
  },
  {
   "cell_type": "code",
   "execution_count": null,
   "metadata": {},
   "outputs": [],
   "source": [
    "create_finger_print("
   ]
  },
  {
   "cell_type": "code",
   "execution_count": null,
   "metadata": {},
   "outputs": [],
   "source": []
  },
  {
   "cell_type": "code",
   "execution_count": null,
   "metadata": {},
   "outputs": [],
   "source": []
  }
 ],
 "metadata": {
  "kernelspec": {
   "display_name": "Python 3",
   "language": "python",
   "name": "python3"
  },
  "language_info": {
   "codemirror_mode": {
    "name": "ipython",
    "version": 3
   },
   "file_extension": ".py",
   "mimetype": "text/x-python",
   "name": "python",
   "nbconvert_exporter": "python",
   "pygments_lexer": "ipython3",
   "version": "3.6.7"
  }
 },
 "nbformat": 4,
 "nbformat_minor": 2
}
