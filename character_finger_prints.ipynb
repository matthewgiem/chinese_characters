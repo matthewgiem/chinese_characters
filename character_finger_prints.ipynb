{
 "cells": [
  {
   "cell_type": "markdown",
   "metadata": {},
   "source": [
    "### Import Dependencies"
   ]
  },
  {
   "cell_type": "code",
   "execution_count": 1,
   "metadata": {},
   "outputs": [],
   "source": [
    "import glob\n",
    "import cv2\n",
    "import os\n",
    "import matplotlib.pyplot as plt\n",
    "import numpy as np\n",
    "import random"
   ]
  },
  {
   "cell_type": "markdown",
   "metadata": {},
   "source": [
    "### Create the paths to retrieve images"
   ]
  },
  {
   "cell_type": "code",
   "execution_count": 2,
   "metadata": {},
   "outputs": [],
   "source": [
    "DataDir = 'ignore_folder/data'\n",
    "Categories_all = ['a5df', 'a447', 'a440', 'a476', 'a67e', 'ae61', 'a470', 'a448', 'a9d2', 'a44a', 'a5d0', 'a569', 'acdb', 'a8e2', 'a558', 'a4ce', 'a4f1', 'a4e9', 'a6ca', 'b773', 'ab42', 'a8e4', 'a4e8', 'ad78', 'b944', 'a8c6', 'a6d1', 'a977', 'a57e', 'a8a3', 'a4d2', 'a6b3', 'a8ad', 'a740', 'a8bd', 'a8ae', 'a4a7', 'b3a3', 'a46c', 'a464', 'a656', 'a5fe', 'a455', 'a5c1', 'a658', 'b3be', 'a45d', 'a9fa', 'a46b', 'a9ce', 'a453', 'ac46', 'a454', 'b3bd', 'a5c9', 'a650', 'a668', 'a5fd', 'a5d5', 'a5aa', 'a5db', 'a7da', 'a5a6', 'a475', 'a5bf', 'adfb', 'a474', 'a473', 'afe0', 'a8c3', 'a55b', 'bec7', 'b54c', 'a6e7', 'a4ec', 'a4fb', 'a751', 'a56b', 'b0a8', 'a4f4', 'a6e6', 'a4e2', 'a6e8', 'a4e5', 'a4fd', 'bb50', 'ab48', 'a4c0', 'a4eb', 'b0aa', 'a8e0', 'a6a8', 'a6db', 'bb44', 'b16f', 'a8d3', 'a6b9', 'a540', 'a6d5', 'b0ea', 'aaf8', 'a8a7', 'a4d1', 'a4bd', 'a6b8', 'b6c0', 'a4a3', 'a548', 'a4a4', 'aaf7', 'b160', 'a6d3', 'aaf9', 'aacc', 'a86b', 'aa47', 'a467', 'b1d0', 'a451', 'a45f', 'a5ce', 'a457', 'adab', 'aa46', 'a46a']"
   ]
  },
  {
   "cell_type": "markdown",
   "metadata": {},
   "source": [
    "### Check if path works"
   ]
  },
  {
   "cell_type": "code",
   "execution_count": 3,
   "metadata": {},
   "outputs": [
    {
     "data": {
      "image/png": "[encoded data removed]",
      "text/plain": [
       "<Figure size 432x288 with 1 Axes>"
      ]
     },
     "metadata": {
      "needs_background": "light"
     },
     "output_type": "display_data"
    }
   ],
   "source": [
    "for category in Categories_all:\n",
    "    path = os.path.join(DataDir,category)\n",
    "    for img in os.listdir(path):\n",
    "        img_array = cv2.imread(os.path.join(path,img), cv2.IMREAD_GRAYSCALE)\n",
    "        plt.imshow(img_array, cmap='gray')\n",
    "        plt.show()\n",
    "        break\n",
    "    break"
   ]
  },
  {
   "cell_type": "markdown",
   "metadata": {},
   "source": [
    "### Check out the shape of the image"
   ]
  },
  {
   "cell_type": "code",
   "execution_count": 4,
   "metadata": {},
   "outputs": [
    {
     "data": {
      "text/plain": [
       "(65, 79)"
      ]
     },
     "execution_count": 4,
     "metadata": {},
     "output_type": "execute_result"
    }
   ],
   "source": [
    "img_array.shape"
   ]
  },
  {
   "cell_type": "markdown",
   "metadata": {},
   "source": [
    "### Resize the Image"
   ]
  },
  {
   "cell_type": "code",
   "execution_count": 5,
   "metadata": {},
   "outputs": [
    {
     "data": {
      "image/png": "[encoded data removed]",
      "text/plain": [
       "<Figure size 432x288 with 1 Axes>"
      ]
     },
     "metadata": {
      "needs_background": "light"
     },
     "output_type": "display_data"
    }
   ],
   "source": [
    "IMG_X = 100\n",
    "IMG_Y = 100\n",
    "\n",
    "new_array = cv2.resize(img_array, (IMG_Y, IMG_X)) # after checkning they need to be rearanged\n",
    "plt.imshow(new_array, cmap='gray')\n",
    "plt.show()"
   ]
  },
  {
   "cell_type": "markdown",
   "metadata": {},
   "source": [
    "### Display how numpy.average works"
   ]
  },
  {
   "cell_type": "code",
   "execution_count": 6,
   "metadata": {},
   "outputs": [
    {
     "data": {
      "text/plain": [
       "array([  0.  ,   0.  ,   0.  ,   0.  ,   0.  ,   0.  ,   0.  ,   0.  ,\n",
       "         0.  ,   0.  ,   0.  ,   0.  ,   0.  ,   0.  ,   0.  ,   0.  ,\n",
       "         0.  ,   0.  ,   0.5 ,   3.87,  12.14,  17.5 ,  22.85,  31.68,\n",
       "        31.68,  34.27,  38.97,  44.04,  46.92,  50.19,  51.  ,  52.44,\n",
       "        56.17,  62.65,  68.79,  81.33,  91.4 ,  94.78, 101.24, 112.91,\n",
       "       115.74, 129.56, 171.23, 199.58, 196.76, 189.19, 185.66, 188.42,\n",
       "       188.12, 190.52, 159.64, 107.9 ,  98.44, 104.2 , 105.91, 103.08,\n",
       "        96.36,  87.29,  80.67,  70.36,  61.34,  57.85,  51.61,  45.69,\n",
       "        43.22,  41.19,  34.81,  31.84,  31.17,  27.98,  22.51,  19.44,\n",
       "        19.38,  17.32,  15.75,  15.75,  15.75,  10.01,   5.63,   2.48,\n",
       "         0.  ,   0.  ,   0.  ,   0.  ,   0.  ,   0.  ,   0.  ,   0.  ,\n",
       "         0.  ,   0.  ,   0.  ,   0.  ,   0.  ,   0.  ,   0.  ,   0.  ,\n",
       "         0.  ,   0.  ,   0.  ,   0.  ])"
      ]
     },
     "execution_count": 6,
     "metadata": {},
     "output_type": "execute_result"
    }
   ],
   "source": [
    "np.average(new_array, axis=0)"
   ]
  },
  {
   "cell_type": "markdown",
   "metadata": {},
   "source": [
    "### Create function to create list with resized images"
   ]
  },
  {
   "cell_type": "code",
   "execution_count": 7,
   "metadata": {},
   "outputs": [],
   "source": [
    "data = []\n",
    "\n",
    "def create_training_data():\n",
    "    for category in Categories_all:\n",
    "        path = os.path.join(DataDir, category)\n",
    "        class_num = Categories_all.index(category)\n",
    "        for img in os.listdir(path):\n",
    "            if 'jinwen' in img:\n",
    "                class_type = 'jinwen'\n",
    "            if 'chuxi' in img:\n",
    "                class_type = 'chuxi'\n",
    "            if 'smallseal' in img:\n",
    "                class_type = 'smallseal'\n",
    "            if 'oracle' in img:\n",
    "                class_type = 'oracle'\n",
    "            try:\n",
    "                img_array = cv2.imread(os.path.join(path,img), cv2.IMREAD_GRAYSCALE)\n",
    "                new_array = cv2.resize(img_array, (IMG_Y, IMG_X))\n",
    "                data.append([new_array, category, class_type])\n",
    "            except Exception as e:\n",
    "                print('something went wrong')\n"
   ]
  },
  {
   "cell_type": "markdown",
   "metadata": {},
   "source": [
    "### Create list"
   ]
  },
  {
   "cell_type": "code",
   "execution_count": 8,
   "metadata": {},
   "outputs": [],
   "source": [
    "create_training_data()"
   ]
  },
  {
   "cell_type": "markdown",
   "metadata": {},
   "source": [
    "### Shuffle data"
   ]
  },
  {
   "cell_type": "code",
   "execution_count": 9,
   "metadata": {},
   "outputs": [],
   "source": [
    "random.shuffle(data)"
   ]
  },
  {
   "cell_type": "markdown",
   "metadata": {},
   "source": [
    "### Check out form of the list"
   ]
  },
  {
   "cell_type": "code",
   "execution_count": 10,
   "metadata": {},
   "outputs": [
    {
     "data": {
      "text/plain": [
       "[array([[0, 0, 0, ..., 0, 0, 0],\n",
       "        [0, 0, 0, ..., 0, 0, 0],\n",
       "        [0, 0, 0, ..., 0, 0, 0],\n",
       "        ...,\n",
       "        [0, 0, 0, ..., 0, 0, 0],\n",
       "        [0, 0, 0, ..., 0, 0, 0],\n",
       "        [0, 0, 0, ..., 0, 0, 0]], dtype=uint8), 'a476', 'chuxi']"
      ]
     },
     "execution_count": 10,
     "metadata": {},
     "output_type": "execute_result"
    }
   ],
   "source": [
    "data[0]"
   ]
  },
  {
   "cell_type": "markdown",
   "metadata": {},
   "source": [
    "### Split trainging data and testing data "
   ]
  },
  {
   "cell_type": "code",
   "execution_count": 11,
   "metadata": {},
   "outputs": [],
   "source": [
    "testing_data = data[-100:]\n",
    "training_data = data[0:-100]"
   ]
  },
  {
   "cell_type": "code",
   "execution_count": 12,
   "metadata": {},
   "outputs": [
    {
     "name": "stdout",
     "output_type": "stream",
     "text": [
      "100 + 8132 = 8232\n"
     ]
    }
   ],
   "source": [
    "print(\"{} + {} = {}\".format(len(testing_data), len(training_data), len(data)))"
   ]
  },
  {
   "cell_type": "markdown",
   "metadata": {},
   "source": [
    "### Function for createing \"fingerprints\" of images"
   ]
  },
  {
   "cell_type": "code",
   "execution_count": 13,
   "metadata": {},
   "outputs": [],
   "source": [
    "finger_print = []\n",
    "\n",
    "def create_finger_print(data):\n",
    "    for picture in data:\n",
    "        horizontal_average = np.average(picture[0], axis=1)\n",
    "        vertical_average = np.average(picture[0], axis=0)\n",
    "        finger_print.append([horizontal_average, vertical_average, picture[1], picture[2]])"
   ]
  },
  {
   "cell_type": "markdown",
   "metadata": {},
   "source": [
    "### Generate list of \"fingerpints\""
   ]
  },
  {
   "cell_type": "code",
   "execution_count": 14,
   "metadata": {},
   "outputs": [],
   "source": [
    "create_finger_print(training_data)"
   ]
  },
  {
   "cell_type": "markdown",
   "metadata": {},
   "source": [
    "### Check out the form of the \"fingerprint\""
   ]
  },
  {
   "cell_type": "code",
   "execution_count": 15,
   "metadata": {},
   "outputs": [
    {
     "name": "stdout",
     "output_type": "stream",
     "text": [
      "[array([  0.  ,   0.  ,   0.  ,   0.  ,   0.  ,   0.  ,   0.  ,   0.  ,\n",
      "         0.  ,   0.  ,   0.  ,   0.  ,   0.  ,   1.84,   6.21,  27.18,\n",
      "        47.22,  61.61,  72.92,  82.91,  91.25,  99.63, 107.22, 111.57,\n",
      "       111.55, 112.39, 137.53, 139.69, 125.29, 114.88, 105.47,  97.03,\n",
      "        90.66,  82.69,  72.44,  56.3 ,  45.31,  45.33,  57.15,  72.29,\n",
      "        88.79,  98.  , 104.84, 113.29, 108.  ,  96.61,  94.62,  90.07,\n",
      "        84.28,  92.66,  93.66,  87.3 ,  70.99,  54.21,  37.43,  29.9 ,\n",
      "        29.44,  40.14,  64.14,  89.66, 110.65, 120.75, 126.8 , 133.12,\n",
      "       143.7 , 154.57, 150.02, 137.28, 119.19, 115.07, 109.93, 103.77,\n",
      "        93.26,  83.51,  75.14,  64.98,  55.32,  46.91,  38.56,  30.19,\n",
      "        21.85,  16.4 ,  11.27,   2.89,   0.  ,   0.  ,   0.  ,   0.  ,\n",
      "         0.  ,   0.  ,   0.  ,   0.  ,   0.  ,   0.  ,   0.  ,   0.  ,\n",
      "         0.  ,   0.  ,   0.  ,   0.  ]), array([0.0000e+00, 0.0000e+00, 0.0000e+00, 0.0000e+00, 0.0000e+00,\n",
      "       0.0000e+00, 0.0000e+00, 0.0000e+00, 0.0000e+00, 3.0000e-02,\n",
      "       6.2900e+00, 2.1580e+01, 4.1340e+01, 6.0820e+01, 7.3690e+01,\n",
      "       8.8940e+01, 1.0012e+02, 1.0562e+02, 1.0569e+02, 1.0569e+02,\n",
      "       1.0299e+02, 1.0569e+02, 1.0768e+02, 1.0116e+02, 9.1740e+01,\n",
      "       7.9910e+01, 7.2700e+01, 7.1380e+01, 7.4140e+01, 7.1360e+01,\n",
      "       7.0700e+01, 7.2300e+01, 7.4840e+01, 7.4840e+01, 7.7570e+01,\n",
      "       7.8540e+01, 7.8610e+01, 7.8610e+01, 7.8610e+01, 8.1430e+01,\n",
      "       8.0570e+01, 7.7440e+01, 7.5150e+01, 7.8320e+01, 8.1070e+01,\n",
      "       8.0330e+01, 7.7100e+01, 7.4430e+01, 7.7860e+01, 7.8870e+01,\n",
      "       7.9000e+01, 7.9720e+01, 8.2790e+01, 7.6330e+01, 7.4190e+01,\n",
      "       7.4060e+01, 7.4100e+01, 7.4350e+01, 7.4390e+01, 7.2560e+01,\n",
      "       7.3010e+01, 7.8420e+01, 7.8420e+01, 7.5660e+01, 7.4460e+01,\n",
      "       7.5670e+01, 7.8650e+01, 7.5260e+01, 7.1960e+01, 6.8700e+01,\n",
      "       6.9260e+01, 8.1550e+01, 9.7180e+01, 1.0168e+02, 1.0168e+02,\n",
      "       1.0168e+02, 1.0168e+02, 9.8950e+01, 8.7690e+01, 7.4470e+01,\n",
      "       6.3320e+01, 3.9000e+01, 3.2800e+01, 2.7820e+01, 2.1600e+01,\n",
      "       1.5970e+01, 1.8840e+01, 1.7010e+01, 9.0900e+00, 0.0000e+00,\n",
      "       0.0000e+00, 0.0000e+00, 0.0000e+00, 0.0000e+00, 0.0000e+00,\n",
      "       0.0000e+00, 0.0000e+00, 0.0000e+00, 0.0000e+00, 0.0000e+00]), 'a476', 'chuxi']\n"
     ]
    }
   ],
   "source": [
    "print(finger_print[0])"
   ]
  },
  {
   "cell_type": "markdown",
   "metadata": {},
   "source": [
    "### Create function to return the chinese character whos \"fingerprint\" best matches the \"fingerprint\" of the testing image"
   ]
  },
  {
   "cell_type": "code",
   "execution_count": 16,
   "metadata": {},
   "outputs": [],
   "source": [
    "def fingerprint_test(sample_picture, fingerprint_data):\n",
    "    horizontal_average = np.average(sample_picture[0], axis=1)\n",
    "    vertical_average = np.average(sample_picture[0], axis=0)\n",
    "    best_guess = []\n",
    "    for x in fingerprint_data:\n",
    "        best_guess.append([int(sum(abs(horizontal_average-x[0])) + sum(abs(vertical_average-x[1]))), x[2] + \"-\" + x[3]])\n",
    "    best_guess_index = np.argmin([x[0] for x in best_guess])\n",
    "    return best_guess[best_guess_index][1], training_data[best_guess_index][0]\n",
    "\n"
   ]
  },
  {
   "cell_type": "markdown",
   "metadata": {},
   "source": [
    "### Prediction with a sample testing image"
   ]
  },
  {
   "cell_type": "code",
   "execution_count": 17,
   "metadata": {},
   "outputs": [
    {
     "data": {
      "text/plain": [
       "'a4eb-oracle'"
      ]
     },
     "execution_count": 17,
     "metadata": {},
     "output_type": "execute_result"
    }
   ],
   "source": [
    "fingerprint_test(testing_data[45], finger_print)[0]"
   ]
  },
  {
   "cell_type": "markdown",
   "metadata": {},
   "source": [
    "### Create a function to test my models accuracy"
   ]
  },
  {
   "cell_type": "code",
   "execution_count": 18,
   "metadata": {},
   "outputs": [],
   "source": [
    "def model_accuracy(array_of_test_images, finger_print_data):\n",
    "    test_number = 0\n",
    "    correctly_guessed = 0\n",
    "    image = []\n",
    "    guess = []\n",
    "    for x in array_of_test_images:\n",
    "        test_number += 1\n",
    "        if fingerprint_test(x, finger_print_data)[0] == x[1] + \"-\" + x[2]:\n",
    "            correctly_guessed += 1\n",
    "        else:\n",
    "            image.append([x[0], x[1] + \"-\" + x[2]])\n",
    "            guess.append(fingerprint_test(x, finger_print_data))\n",
    "    return correctly_guessed/test_number, image, guess"
   ]
  },
  {
   "cell_type": "markdown",
   "metadata": {},
   "source": [
    "### Run function and save the return object for investigation"
   ]
  },
  {
   "cell_type": "code",
   "execution_count": 19,
   "metadata": {},
   "outputs": [],
   "source": [
    "answer = model_accuracy(testing_data, finger_print)"
   ]
  },
  {
   "cell_type": "markdown",
   "metadata": {},
   "source": [
    "### Model accuracy"
   ]
  },
  {
   "cell_type": "code",
   "execution_count": 20,
   "metadata": {},
   "outputs": [
    {
     "data": {
      "text/plain": [
       "0.63"
      ]
     },
     "execution_count": 20,
     "metadata": {},
     "output_type": "execute_result"
    }
   ],
   "source": [
    "answer[0]"
   ]
  },
  {
   "cell_type": "markdown",
   "metadata": {},
   "source": [
    "### Sample image wrongfully categorized"
   ]
  },
  {
   "cell_type": "code",
   "execution_count": 21,
   "metadata": {},
   "outputs": [
    {
     "name": "stdout",
     "output_type": "stream",
     "text": [
      "['a4fd-jinwen']\n"
     ]
    },
    {
     "data": {
      "image/png": "[encoded data removed]",
      "text/plain": [
       "<Figure size 432x288 with 1 Axes>"
      ]
     },
     "metadata": {
      "needs_background": "light"
     },
     "output_type": "display_data"
    }
   ],
   "source": [
    "plt.imshow(answer[1][0][0], cmap='gray')\n",
    "print(answer[1][0][1:3])"
   ]
  },
  {
   "cell_type": "markdown",
   "metadata": {},
   "source": [
    "### Models Guess"
   ]
  },
  {
   "cell_type": "code",
   "execution_count": 22,
   "metadata": {},
   "outputs": [
    {
     "name": "stdout",
     "output_type": "stream",
     "text": [
      "a46c-jinwen\n"
     ]
    },
    {
     "data": {
      "image/png": "[encoded data removed]",
      "text/plain": [
       "<Figure size 432x288 with 1 Axes>"
      ]
     },
     "metadata": {
      "needs_background": "light"
     },
     "output_type": "display_data"
    }
   ],
   "source": [
    "plt.imshow(answer[2][0][1], cmap='gray')\n",
    "print(answer[2][0][0])"
   ]
  },
  {
   "cell_type": "markdown",
   "metadata": {},
   "source": [
    "### Not too bad lol\n",
    "### For further work I will look at adding more axis to take the average values and will change the function to ranke different guesses and see if with the ranking I can make a better prediction"
   ]
  }
 ],
 "metadata": {
  "kernelspec": {
   "display_name": "Python 3",
   "language": "python",
   "name": "python3"
  },
  "language_info": {
   "codemirror_mode": {
    "name": "ipython",
    "version": 3
   },
   "file_extension": ".py",
   "mimetype": "text/x-python",
   "name": "python",
   "nbconvert_exporter": "python",
   "pygments_lexer": "ipython3",
   "version": "3.7.1"
  }
 },
 "nbformat": 4,
 "nbformat_minor": 2
}
